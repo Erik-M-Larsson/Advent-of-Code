{
 "cells": [
  {
   "cell_type": "code",
   "execution_count": 66,
   "metadata": {},
   "outputs": [],
   "source": [
    "import numpy as numphy\n",
    "\n",
    "långfil = \"input_data/10.txt\"\n",
    "with open(långfil, \"r\") as f:\n",
    "    instruktioner = f.read().splitlines()\n"
   ]
  },
  {
   "cell_type": "code",
   "execution_count": 69,
   "metadata": {},
   "outputs": [
    {
     "data": {
      "text/plain": [
       "16060"
      ]
     },
     "execution_count": 69,
     "metadata": {},
     "output_type": "execute_result"
    }
   ],
   "source": [
    "x, cykel, i = 1, 1, 0\n",
    "add_slut = False\n",
    "summa_styrka = 0\n",
    "\n",
    "while i < len(instruktioner):\n",
    "    \n",
    "    if not(cykel -20) % 40:\n",
    "        styrka = cykel * x\n",
    "        summa_styrka += styrka\n",
    "\n",
    "    if instruktioner[i] == \"noop\":\n",
    "        i += 1\n",
    "    else:\n",
    "        if add_slut:\n",
    "            x += int(instruktioner[i][5:])\n",
    "            i += 1\n",
    "        add_slut = not add_slut    \n",
    "    \n",
    "    cykel +=1\n",
    "\n",
    "summa_styrka"
   ]
  },
  {
   "cell_type": "markdown",
   "metadata": {},
   "source": [
    "## Del 2\n"
   ]
  },
  {
   "cell_type": "code",
   "execution_count": 68,
   "metadata": {},
   "outputs": [
    {
     "name": "stdout",
     "output_type": "stream",
     "text": [
      "# # # . . . # # . . . # # . . # # # # . # . . # . # . . . . # . . # . # # # # . \n",
      "# . . # . # . . # . # . . # . # . . . . # . # . . # . . . . # . . # . # . . . . \n",
      "# # # . . # . . # . # . . . . # # # . . # # . . . # . . . . # # # # . # # # . . \n",
      "# . . # . # # # # . # . . . . # . . . . # . # . . # . . . . # . . # . # . . . . \n",
      "# . . # . # . . # . # . . # . # . . . . # . # . . # . . . . # . . # . # . . . . \n",
      "# # # . . # . . # . . # # . . # # # # . # . . # . # # # # . # . . # . # . . . . \n"
     ]
    }
   ],
   "source": [
    "x, cykel, i = 1, 1, 0\n",
    "add_slut = False\n",
    "\n",
    "while i < len(instruktioner):\n",
    "    \n",
    "    if (cykel-1) % 40 in range(x-1, x+2):\n",
    "        print('#', end=\" \")\n",
    "    else:\n",
    "        print('.', end=\" \")\n",
    "\n",
    "    if not(cykel) % 40:\n",
    "        print(\"\")\n",
    "\n",
    "    if instruktioner[i] == \"noop\":\n",
    "        i += 1\n",
    "    else:\n",
    "        if add_slut:\n",
    "            x += int(instruktioner[i][5:])\n",
    "            i += 1\n",
    "        add_slut = not add_slut    \n",
    "    \n",
    "    cykel +=1"
   ]
  },
  {
   "cell_type": "code",
   "execution_count": null,
   "metadata": {},
   "outputs": [],
   "source": []
  }
 ],
 "metadata": {
  "kernelspec": {
   "display_name": "Python 3.9.7 64-bit",
   "language": "python",
   "name": "python3"
  },
  "language_info": {
   "codemirror_mode": {
    "name": "ipython",
    "version": 3
   },
   "file_extension": ".py",
   "mimetype": "text/x-python",
   "name": "python",
   "nbconvert_exporter": "python",
   "pygments_lexer": "ipython3",
   "version": "3.9.7"
  },
  "orig_nbformat": 4,
  "vscode": {
   "interpreter": {
    "hash": "fef3571d6bf085add123fca72cc02c04844d6759d57a6f41ae441c841ab8eee5"
   }
  }
 },
 "nbformat": 4,
 "nbformat_minor": 2
}
