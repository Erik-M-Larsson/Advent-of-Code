{
 "cells": [
  {
   "cell_type": "markdown",
   "metadata": {},
   "source": [
    "## Del 1"
   ]
  },
  {
   "cell_type": "code",
   "execution_count": 271,
   "metadata": {},
   "outputs": [],
   "source": [
    "import numpy as numphy\n",
    "\n",
    "långfil = \"input_data/8.txt\"\n",
    "with open(långfil, \"r\") as f:\n",
    "    rader = f.read().splitlines()\n",
    "\n",
    "skog = numphy.array([list(rad) for rad in rader], dtype=int)\n",
    "rader, kolonner = skog.shape[0], skog.shape[1]"
   ]
  },
  {
   "cell_type": "code",
   "execution_count": 251,
   "metadata": {},
   "outputs": [
    {
     "data": {
      "text/plain": [
       "1859"
      ]
     },
     "execution_count": 251,
     "metadata": {},
     "output_type": "execute_result"
    }
   ],
   "source": [
    "antal_synliga_träd = 2*(rader+kolonner) - 4\n",
    "\n",
    "for rad in range(1,rader-1):\n",
    "    for kol in range(1, kolonner-1):\n",
    "        antal_synliga_träd += skog[rad, kol] > min(max(skog[:rad , kol]), max(skog[rad+1: , kol]), max(skog[rad, :kol]), max(skog[rad, kol+1:]))\n",
    "        \n",
    "antal_synliga_träd"
   ]
  },
  {
   "cell_type": "markdown",
   "metadata": {},
   "source": [
    "## Del 2"
   ]
  },
  {
   "cell_type": "code",
   "execution_count": 252,
   "metadata": {},
   "outputs": [
    {
     "data": {
      "text/plain": [
       "332640"
      ]
     },
     "execution_count": 252,
     "metadata": {},
     "output_type": "execute_result"
    }
   ],
   "source": [
    "ytpoäng = []\n",
    "for rad in range(0, rader):\n",
    "    for kol in range(0, kolonner):\n",
    "        \n",
    "        synliga_träd_omkring = 1\n",
    "        for riktning in [numphy.flip(skog[:rad , kol]), skog[rad+1: , kol], numphy.flip(skog[rad, :kol]), skog[rad, kol+1:]]:\n",
    "      \n",
    "            i=-1\n",
    "            for i,träd in enumerate(riktning):\n",
    "                if träd >= skog[rad, kol]:\n",
    "                    break\n",
    "            \n",
    "            synliga_träd_omkring *= (i+1) \n",
    "\n",
    "        ytpoäng.append(synliga_träd_omkring)\n",
    "\n",
    "max(ytpoäng)"
   ]
  }
 ],
 "metadata": {
  "kernelspec": {
   "display_name": "Python 3.9.7 64-bit",
   "language": "python",
   "name": "python3"
  },
  "language_info": {
   "codemirror_mode": {
    "name": "ipython",
    "version": 3
   },
   "file_extension": ".py",
   "mimetype": "text/x-python",
   "name": "python",
   "nbconvert_exporter": "python",
   "pygments_lexer": "ipython3",
   "version": "3.9.7"
  },
  "orig_nbformat": 4,
  "vscode": {
   "interpreter": {
    "hash": "fef3571d6bf085add123fca72cc02c04844d6759d57a6f41ae441c841ab8eee5"
   }
  }
 },
 "nbformat": 4,
 "nbformat_minor": 2
}
