{
 "cells": [
  {
   "cell_type": "markdown",
   "metadata": {},
   "source": [
    "# Lucka 20 "
   ]
  },
  {
   "cell_type": "code",
   "execution_count": 1,
   "metadata": {},
   "outputs": [],
   "source": [
    "import numpy as np"
   ]
  },
  {
   "cell_type": "code",
   "execution_count": 2,
   "metadata": {},
   "outputs": [],
   "source": [
    "långfil = \"input_data/20.txt\"\n",
    "with open(långfil, \"r\") as f:\n",
    "    rådata = f.read().splitlines()\n",
    "\n",
    "krypterad_data = np.array([*enumerate(rådata)], np.int64)"
   ]
  },
  {
   "attachments": {},
   "cell_type": "markdown",
   "metadata": {},
   "source": [
    "Välj del 1 eller del 2"
   ]
  },
  {
   "cell_type": "code",
   "execution_count": 3,
   "metadata": {},
   "outputs": [
    {
     "name": "stdout",
     "output_type": "stream",
     "text": [
      "Varv: 0\n",
      "Varv: 1\n",
      "Varv: 2\n",
      "Varv: 3\n",
      "Varv: 4\n",
      "Varv: 5\n",
      "Varv: 6\n",
      "Varv: 7\n",
      "Varv: 8\n",
      "Varv: 9\n",
      "i: 4999\r"
     ]
    }
   ],
   "source": [
    "# 1: del 1 eller del 2\n",
    "deluppgift = 2  # <---------- Välj här!\n",
    "\n",
    "# Nyckel för del 2\n",
    "nyckel = 811589153\n",
    "\n",
    "antal_tal = krypterad_data.shape[0]\n",
    "\n",
    "if deluppgift == 1:\n",
    "    antal_mixningar = 1\n",
    "elif deluppgift == 2:\n",
    "    krypterad_data[:, 1] = (krypterad_data[:, 1] * nyckel)\n",
    "    antal_mixningar = 10\n",
    "else:\n",
    "    raise ValueError(f\"Va fan håller du på med? deluppgift ska vara antingen 1 eller 2 inte {deluppgift}\")\n",
    "\n",
    "for varv in range(antal_mixningar):\n",
    "    print(\"Varv:\", varv)\n",
    "    lista_index = krypterad_data[:, 0]\n",
    "    lista_tal = krypterad_data[:, 1]\n",
    "\n",
    "    for i, _ in enumerate(krypterad_data):\n",
    "        l_temp = lista_index.copy()\n",
    "\n",
    "        print(\"i: \", i, sep=\"\", end=\"\\r\")\n",
    "    \n",
    "        index = lista_index[i]\n",
    "        n_i = index + lista_tal[i]\n",
    "        nytt_index = (n_i % antal_tal + n_i // (antal_tal-1)) % antal_tal \n",
    "\n",
    "        # berörda_index = range(min(index, nytt_index), max(index, nytt_index)+1)\n",
    "        # idx = np.where(np.isin(lista_index, berörda_index))\n",
    "        idx = np.where((min(index, nytt_index) <= lista_index) & (lista_index <= max(index, nytt_index)))\n",
    "        \n",
    "        l_temp[idx] = (l_temp[idx] + (-1 if nytt_index >= index else 1)) % antal_tal\n",
    "        \n",
    "        l_temp[np.where(lista_index == index)] = nytt_index  \n",
    "        lista_index =l_temp.copy()\n",
    "\n",
    "        \n",
    "    krypterad_data[:, 0] = lista_index\n",
    "    krypterad_data[:, 1] = lista_tal"
   ]
  },
  {
   "cell_type": "code",
   "execution_count": 4,
   "metadata": {},
   "outputs": [
    {
     "name": "stdout",
     "output_type": "stream",
     "text": [
      "6329583804247\n",
      "7175259701673\n",
      "-7084361716537\n"
     ]
    },
    {
     "data": {
      "text/plain": [
       "6420481789383"
      ]
     },
     "execution_count": 4,
     "metadata": {},
     "output_type": "execute_result"
    }
   ],
   "source": [
    "lista_sorterad = [a[1] for a in sorted(zip(lista_index, lista_tal))]\n",
    "start = 0\n",
    "summa = 0 \n",
    "for n in range(1000, 3001, 1000):\n",
    "    \n",
    "    summa += lista_sorterad[(lista_sorterad.index(start)+n)%antal_tal]\n",
    "    print(lista_sorterad[(lista_sorterad.index(start)+n)%antal_tal])\n",
    "\n",
    "summa"
   ]
  }
 ],
 "metadata": {
  "kernelspec": {
   "display_name": "AdventOfCode2022-QRNWGIqt",
   "language": "python",
   "name": "python3"
  },
  "language_info": {
   "codemirror_mode": {
    "name": "ipython",
    "version": 3
   },
   "file_extension": ".py",
   "mimetype": "text/x-python",
   "name": "python",
   "nbconvert_exporter": "python",
   "pygments_lexer": "ipython3",
   "version": "3.9.7"
  },
  "orig_nbformat": 4,
  "vscode": {
   "interpreter": {
    "hash": "fb7c721d01b4e70f8ad18a3528640154ea33399894e3ce677614a6f0ea9021d8"
   }
  }
 },
 "nbformat": 4,
 "nbformat_minor": 2
}
