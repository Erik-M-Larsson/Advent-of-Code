{
 "cells": [
  {
   "cell_type": "markdown",
   "metadata": {},
   "source": [
    "# Ren kod\n",
    "Det är viktigt hålla sin kod kort och koncis samt att hindra obehöriga från att stjäla ditt arbete.\n",
    "\n"
   ]
  },
  {
   "cell_type": "markdown",
   "metadata": {},
   "source": [
    "## Del 1"
   ]
  },
  {
   "cell_type": "code",
   "execution_count": 93,
   "metadata": {},
   "outputs": [
    {
     "data": {
      "text/plain": [
       "7889"
      ]
     },
     "execution_count": 93,
     "metadata": {},
     "output_type": "execute_result"
    }
   ],
   "source": [
    "_______,______,______['____']={'____':58, '______': 95, '___':93, '_____':2, '_______':8},{'________': 97, '______':2, '____': 89, '_______':'r', '_____':38, '___': 42},\"input_data/3_1.txt\"\n",
    "with open(______['____'], ______['_______']) as ______['________']: _______['_______'] = ______['________'].read().splitlines()\n",
    "sum([sum(set([ord(_______['______']) - _______['____'] * (ord(_______['______']) // _______['___']) - ______['_____']  for _______['______'] in ______['___'][:len(______['___'])//_______['_____']]  if _______['______'] in ______['___'][len(______['___'])//______['______']:] ])) for ______['___'] in _______['_______']] )"
   ]
  }
 ],
 "metadata": {
  "kernelspec": {
   "display_name": "Python 3.9.7 ('AdventOfCode2022-QRNWGIqt')",
   "language": "python",
   "name": "python3"
  },
  "language_info": {
   "codemirror_mode": {
    "name": "ipython",
    "version": 3
   },
   "file_extension": ".py",
   "mimetype": "text/x-python",
   "name": "python",
   "nbconvert_exporter": "python",
   "pygments_lexer": "ipython3",
   "version": "3.9.7"
  },
  "orig_nbformat": 4,
  "vscode": {
   "interpreter": {
    "hash": "fb7c721d01b4e70f8ad18a3528640154ea33399894e3ce677614a6f0ea9021d8"
   }
  }
 },
 "nbformat": 4,
 "nbformat_minor": 2
}
