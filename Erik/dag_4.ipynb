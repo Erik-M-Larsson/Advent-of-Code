{
 "cells": [
  {
   "cell_type": "markdown",
   "metadata": {},
   "source": [
    "# Läsbar kod\n",
    "\n",
    "Om du tyckte gårdagens kod var för läsbar"
   ]
  },
  {
   "cell_type": "markdown",
   "metadata": {},
   "source": [
    "## Del 1"
   ]
  },
  {
   "cell_type": "code",
   "execution_count": 219,
   "metadata": {},
   "outputs": [
    {
     "name": "stdout",
     "output_type": "stream",
     "text": [
      "657\n"
     ]
    }
   ],
   "source": [
    "α, β = (') fel d5\\n 1b{ f0r ea( b6d c7_  d  56_111m a5. 8a  39p 22e 7fg ed)114e 3d) ffr 67)127e 68d f3 11d=102a f2) cft  c\\' 2b=101l e1( acf 53: 34, 70t 28\\' 81t  2+ f8i ban abn c0h  3i 5br 43, 2a( e9a  f[ f4n 5c  73e aa} f7d  e/ 12a122] ca( e2) fao 21, d3t 8fu  b) 50p 26  52l 8d. 78) cer 60\" fc  3f) fba 58_ dae 23d123n d71 cd) 65t 4ba 7d) d2g c1110ea 3bp  al 90p  0h 1fl a9. 46c 6cu a1e124w 1c[ c8( a8\\' 76i 4a 119) fdl b5  5d. 5fe det 1e( 25t e8i e6c 7ee d6( 9f\\' 2d) 96t 9ei  8( bd; 75{ c4p 7bs e74 13\\' 86n 24n 92l 49l110i 91l104  2fe b2e105f 5e( 4c 103o117r bel b9(107\\n 99t bc  d4  37v b3n106) 77\" d0x 18p 9a 120+10fa 11m a22112t 17e 7ai 1dl 7ca b4d 3c) d1= 40r118r 9b1 15s 47a 30\\' 83a e0e ee 115\\' 71d 59: b0( eff b7= dd\\' 4d( 80r 55r 2ce 61- 82[ a4  41r 3ea a6( c31 aff e3d 63a11bs a0\\n 98a ebr 57\"  7\\' 88\" e4  36s bbi 9ca 62i 8en  9p 48l 6a, 87d11cr 3ah 29_ ae  85_ 14; 4e  38r11a, 721 f5\" b8. 16=  5( 6ea 44n11fa bf: dc( 95r c5n 9d+ ccf 33i11ev df= b1( d8( 64) 2et 19a  1l d9e 93e 6d] f6} cbd 45a 27p 8c0 c9( a3t 10  32) 89x a7r125a c6r f1e c2r 79\\' 6fs 31l e5)128] 97t10a   6\\' 4f, 84s 8b\" 1a. 66[ 42p 69r121n ece109(10b]126\\n 35_10dl ad\\' 74s108   4s 942 dbf116o 54l10c1 f9  51  20  5a 100a 6b)113', 4)\n",
    "exec(\"\".join([δ for _, δ in sorted(zip(map(lambda χ: int(χ, 16), [α[β*i+1:β*i+β] for i,_ in enumerate(α[::β])]), α[::β]))]))"
   ]
  },
  {
   "cell_type": "markdown",
   "metadata": {},
   "source": [
    "## Del 2"
   ]
  },
  {
   "cell_type": "code",
   "execution_count": 221,
   "metadata": {},
   "outputs": [
    {
     "name": "stdout",
     "output_type": "stream",
     "text": [
      "938\n"
     ]
    }
   ],
   "source": [
    "α, β = ('\\' 4fh  3r ea  41) fd+10f) fb2112>102\\' 75r 43a 61\\' 80a bfl 8c( 6de 6cs a4\" fcd123n  9a  fa 27) 2es 93/ 12f b7n c0p  0. 16l 8f\\' 70+ f8] cad 62o117: dch 29d  e  5ca e0( a7) 64t 17i ba110e)100a 11) d1i 1d1 af_  di  8l b9\"  7. 77) 76d 58d c7( b6[ 42t 28\" e4d 45d 3cl110\\' 851 cd) 50, 83 119e 67e 92r11ar125  59i e6\\' 82( e2r 5fn11f)127   6( a8e d6n 91( efi11e  32f 52g c1l 69a 44r 2c( 9e4 13c 7dr 3e: b0e der 54} f7e c2: 34i 9b_ ae( 7f 11da122( c3t 19= dd, 6fl adg edp 22r121   4d11c; 4e2 dbr c5n 5b  36\\' 4d[ a3s108s 31n ecr118a eb\\' 2b( e9 120t e8_ dat 1ep 8b) fee 231 f9l104x 18  55e 3da 57t 8ee 7e  72)113u a0e109( bd 101d f3p 7a[ c8v dfo 21r 3at10a( d8s e7)128f e3f116a 6a= 40 115. 65(107f 5d\\n 35t 10l d5a f21 f5{ c4- 81a b4_ 14r 66. 89) ce) 88i 8dt 9d\\' 73\\n 97(10bs 47n abn 24, 71n 9c) ff  51) fa  38]126{ f0  37u  b)114p 26  20i 90_10d( 94w 1c. 46v b3l b5t  2} cbh 1fa11bm a1\" 1a] 96) cft  c, d3r be\\n 1b, 2ap  ap 99, 86= b1l e50 c9a c6+ ccs bbo 53e124l e1  39_111e105( a2( 25\\' 6ea  1; 74p 68s 9fr f1l d9a 30e aal a9\" d0m a6( 63\\n 98 103  2fs 8at bcl 49  3fr 9a[ f4r 78e b2f 33\\' 2de eee 60) d2c 6bi 5a( 4c. 5ee 79n106l 7bi 4a( act 4bn d7) 95r 561 15u a5] f6  84=  5\" b8a 3bp 48a 7c  d4\\' 87l10c', 4)\n",
    "exec(\"\".join([δ for _, δ in sorted(zip(map(lambda χ: int(χ, 16), [α[β*i+1:β*i+β] for i,_ in enumerate(α[::β])]), α[::β]))]))"
   ]
  }
 ],
 "metadata": {
  "kernelspec": {
   "display_name": "Python 3.9.7 64-bit",
   "language": "python",
   "name": "python3"
  },
  "language_info": {
   "codemirror_mode": {
    "name": "ipython",
    "version": 3
   },
   "file_extension": ".py",
   "mimetype": "text/x-python",
   "name": "python",
   "nbconvert_exporter": "python",
   "pygments_lexer": "ipython3",
   "version": "3.9.7"
  },
  "orig_nbformat": 4,
  "vscode": {
   "interpreter": {
    "hash": "fef3571d6bf085add123fca72cc02c04844d6759d57a6f41ae441c841ab8eee5"
   }
  }
 },
 "nbformat": 4,
 "nbformat_minor": 2
}
