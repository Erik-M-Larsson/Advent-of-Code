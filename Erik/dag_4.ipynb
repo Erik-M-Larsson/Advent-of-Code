{
 "cells": [
  {
   "cell_type": "markdown",
   "metadata": {},
   "source": [
    "# Läsbar kod\n",
    "\n",
    "Om du tyckte gårdagens kod var för läsbar"
   ]
  },
  {
   "cell_type": "markdown",
   "metadata": {},
   "source": [
    "## Del 1"
   ]
  },
  {
   "cell_type": "code",
   "execution_count": 219,
   "metadata": {},
   "outputs": [
    {
     "name": "stdout",
     "output_type": "stream",
     "text": [
      "657\n"
     ]
    }
   ],
   "source": [
    "α, β = (') fel d5\\n 1b{ f0r ea( b6d c7_  d  56_111m a5. 8a  39p 22e 7fg ed)114e 3d) ffr 67)127e 68d f3 11d=102a f2) cft  c\\' 2b=101l e1( acf 53: 34, 70t 28\\' 81t  2+ f8i ban abn c0h  3i 5br 43, 2a( e9a  f[ f4n 5c  73e aa} f7d  e/ 12a122] ca( e2) fao 21, d3t 8fu  b) 50p 26  52l 8d. 78) cer 60\" fc  3f) fba 58_ dae 23d123n d71 cd) 65t 4ba 7d) d2g c1110ea 3bp  al 90p  0h 1fl a9. 46c 6cu a1e124w 1c[ c8( a8\\' 76i 4a 119) fdl b5  5d. 5fe det 1e( 25t e8i e6c 7ee d6( 9f\\' 2d) 96t 9ei  8( bd; 75{ c4p 7bs e74 13\\' 86n 24n 92l 49l110i 91l104  2fe b2e105f 5e( 4c 103o117r bel b9(107\\n 99t bc  d4  37v b3n106) 77\" d0x 18p 9a 120+10fa 11m a22112t 17e 7ai 1dl 7ca b4d 3c) d1= 40r118r 9b1 15s 47a 30\\' 83a e0e ee 115\\' 71d 59: b0( eff b7= dd\\' 4d( 80r 55r 2ce 61- 82[ a4  41r 3ea a6( c31 aff e3d 63a11bs a0\\n 98a ebr 57\"  7\\' 88\" e4  36s bbi 9ca 62i 8en  9p 48l 6a, 87d11cr 3ah 29_ ae  85_ 14; 4e  38r11a, 721 f5\" b8. 16=  5( 6ea 44n11fa bf: dc( 95r c5n 9d+ ccf 33i11ev df= b1( d8( 64) 2et 19a  1l d9e 93e 6d] f6} cbd 45a 27p 8c0 c9( a3t 10  32) 89x a7r125a c6r f1e c2r 79\\' 6fs 31l e5)128] 97t10a   6\\' 4f, 84s 8b\" 1a. 66[ 42p 69r121n ece109(10b]126\\n 35_10dl ad\\' 74s108   4s 942 dbf116o 54l10c1 f9  51  20  5a 100a 6b)113', 4)\n",
    "exec(\"\".join([δ for _, δ in sorted(zip(map(lambda χ: int(χ, 16), [α[β*i+1:β*i+β] for i,_ in enumerate(α[::β])]), α[::β]))]))"
   ]
  },
  {
   "cell_type": "code",
   "execution_count": null,
   "metadata": {},
   "outputs": [],
   "source": []
  },
  {
   "cell_type": "code",
   "execution_count": null,
   "metadata": {},
   "outputs": [],
   "source": []
  }
 ],
 "metadata": {
  "kernelspec": {
   "display_name": "Python 3.9.7 64-bit",
   "language": "python",
   "name": "python3"
  },
  "language_info": {
   "codemirror_mode": {
    "name": "ipython",
    "version": 3
   },
   "file_extension": ".py",
   "mimetype": "text/x-python",
   "name": "python",
   "nbconvert_exporter": "python",
   "pygments_lexer": "ipython3",
   "version": "3.9.7"
  },
  "orig_nbformat": 4,
  "vscode": {
   "interpreter": {
    "hash": "fef3571d6bf085add123fca72cc02c04844d6759d57a6f41ae441c841ab8eee5"
   }
  }
 },
 "nbformat": 4,
 "nbformat_minor": 2
}
