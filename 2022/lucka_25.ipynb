{
 "cells": [
  {
   "attachments": {},
   "cell_type": "markdown",
   "metadata": {},
   "source": [
    "# Lucka 25\n"
   ]
  },
  {
   "cell_type": "code",
   "execution_count": 1,
   "metadata": {},
   "outputs": [
    {
     "data": {
      "text/plain": [
       "['1-201-=2',\n",
       " '210--1211001',\n",
       " '120',\n",
       " '1==1-=1=-1=-=1-==-',\n",
       " '1--',\n",
       " '1-1-2221=-',\n",
       " '1021=',\n",
       " '2-=-21==02',\n",
       " '1-',\n",
       " '1-222122-0==020',\n",
       " '1-20122---12=2112-2=',\n",
       " '221',\n",
       " '12=220-2-=1=',\n",
       " '21',\n",
       " '1-20',\n",
       " '1-0=-0-2---',\n",
       " '10-=221=-0102',\n",
       " '212-020-1=00',\n",
       " '201=020=-1=',\n",
       " '2=0=01=2==',\n",
       " '2=1=0=11-2===20--',\n",
       " '2-0-221',\n",
       " '1--10=--1-0-2',\n",
       " '100=-11222=1',\n",
       " '11-=1',\n",
       " '11=--=1012--02-',\n",
       " '121',\n",
       " '1=11=1',\n",
       " '1==2---002--11=-1-',\n",
       " '11=0==--0',\n",
       " '2==0110=2=1==',\n",
       " '221=-=-=-02',\n",
       " '12-10',\n",
       " '2=',\n",
       " '2-0-=2',\n",
       " '1=0-0=2',\n",
       " '10==-2210=-=202',\n",
       " '2=-21',\n",
       " '2=-=1220',\n",
       " '201=2==1',\n",
       " '1==1=00-1-=',\n",
       " '1200-00-00-21-=-=0',\n",
       " '1=0=-22-200=-2-=--',\n",
       " '1==-=--12-1112-22',\n",
       " '1=0=-00====102',\n",
       " '20222010-1',\n",
       " '1---',\n",
       " '20--==2-201-',\n",
       " '1=1',\n",
       " '120=02=-=1-0=1',\n",
       " '1=-210-1=1',\n",
       " '1110--2',\n",
       " '1102-1=2----201=-',\n",
       " '1=01=2-01',\n",
       " '12=2--0-1001',\n",
       " '12=1',\n",
       " '102',\n",
       " '2=1=-11',\n",
       " '12=001022',\n",
       " '2=1=1=-01==',\n",
       " '101---=1--',\n",
       " '10=00001-0122=0',\n",
       " '12=-=--11=112=0202',\n",
       " '1-122====012100',\n",
       " '212=020=1022-0',\n",
       " '10=22=2',\n",
       " '1===212-02=1',\n",
       " '2=-2===-01010-121',\n",
       " '122=10',\n",
       " '2-0-1=-0--1001=-2',\n",
       " '1121',\n",
       " '1-21--100=1=2=1=2-',\n",
       " '1==0',\n",
       " '1=-0=0-2=0-=1===0',\n",
       " '2-02-==',\n",
       " '20-=-2022===-222',\n",
       " '1=1100-1',\n",
       " '12=-1=-02-2-20-=1-=',\n",
       " '10=',\n",
       " '1=1-==2',\n",
       " '101-=01221-==-2-=-',\n",
       " '12-=111=2=11-=1212',\n",
       " '12==202=121',\n",
       " '22022=000-121001-',\n",
       " '12=2',\n",
       " '1==0==1--1',\n",
       " '222',\n",
       " '10',\n",
       " '12-0122=01-',\n",
       " '10-0=01120',\n",
       " '210-0===-011=-=12=',\n",
       " '1=-1=0=2-102--0',\n",
       " '10111000--0-===0',\n",
       " '1=0-=-2-',\n",
       " '2-==22100',\n",
       " '1-2=-2-1-020=-2-',\n",
       " '1=001-1=02=--2',\n",
       " '1==0-211-21=-',\n",
       " '1-02=2=--221=-012==',\n",
       " '1-011-221-0=',\n",
       " '10-20=',\n",
       " '1=-0--=',\n",
       " '10-=022101=1--22',\n",
       " '2-0-1202==-==-',\n",
       " '1=0-',\n",
       " '11=',\n",
       " '2200',\n",
       " '2-22-212==-0==2=',\n",
       " '1012',\n",
       " '1=2=12===2-=',\n",
       " '1==211-02-',\n",
       " '1-001==2101220',\n",
       " '2-001',\n",
       " '10-=2-=',\n",
       " '102110==21=12--02',\n",
       " '1-=1122212002=010',\n",
       " '1-10-201=221=021-',\n",
       " '2-00=2221',\n",
       " '2--1',\n",
       " '11=12=0',\n",
       " '2-21=-',\n",
       " '20--2-1=22220-0',\n",
       " '2=22=1-02=21',\n",
       " '10==10112=1',\n",
       " '1-2=0=0=02==',\n",
       " '2201=2',\n",
       " '10-=00121',\n",
       " '10-012-12']"
      ]
     },
     "execution_count": 1,
     "metadata": {},
     "output_type": "execute_result"
    }
   ],
   "source": [
    "långfil = \"input_data/25.txt\"\n",
    "with open(långfil, \"r\") as filbunke:\n",
    "    snafu_tal = filbunke.read().splitlines()\n",
    "\n",
    "snafu_tal"
   ]
  },
  {
   "attachments": {},
   "cell_type": "markdown",
   "metadata": {},
   "source": [
    "## Del 1\n",
    "Konvertera SNAFU till decimalt"
   ]
  },
  {
   "cell_type": "code",
   "execution_count": 2,
   "metadata": {},
   "outputs": [],
   "source": [
    "bas = 5\n",
    "\n",
    "teckentabell = {'=': -2,\n",
    "                '-': -1,\n",
    "                '0': 0, \n",
    "                '1': 1,\n",
    "                '2': 2}"
   ]
  },
  {
   "cell_type": "code",
   "execution_count": 3,
   "metadata": {},
   "outputs": [],
   "source": [
    "decimaltal =[sum([teckentabell[v]*bas**i for i, v in enumerate(list(snafu)[-1::-1])]) for snafu in snafu_tal]"
   ]
  },
  {
   "attachments": {},
   "cell_type": "markdown",
   "metadata": {},
   "source": [
    "Summera talen"
   ]
  },
  {
   "cell_type": "code",
   "execution_count": 4,
   "metadata": {},
   "outputs": [
    {
     "data": {
      "text/plain": [
       "34561628468940"
      ]
     },
     "execution_count": 4,
     "metadata": {},
     "output_type": "execute_result"
    }
   ],
   "source": [
    "summa = sum(decimaltal)\n",
    "summa"
   ]
  },
  {
   "attachments": {},
   "cell_type": "markdown",
   "metadata": {},
   "source": [
    "Konvertera från decimalt till SNAFU"
   ]
  },
  {
   "cell_type": "code",
   "execution_count": 5,
   "metadata": {},
   "outputs": [],
   "source": [
    "teckentabell_omvänd = {v:k for k,v in teckentabell.items()}"
   ]
  },
  {
   "cell_type": "code",
   "execution_count": 6,
   "metadata": {},
   "outputs": [
    {
     "data": {
      "text/plain": [
       "'2-02===-21---2002==0'"
      ]
     },
     "execution_count": 6,
     "metadata": {},
     "output_type": "execute_result"
    }
   ],
   "source": [
    "n = summa\n",
    "\n",
    "gunnar = \"\"\n",
    "rest = 0\n",
    "while n:\n",
    "    tal = n % bas\n",
    "    n //= bas\n",
    "    tal += rest\n",
    "    rest = tal//round(bas/2+.1) # orka importera ceil\n",
    "    tal = tal - rest * bas\n",
    "    gunnar =  str(teckentabell_omvänd[tal]) + gunnar\n",
    "\n",
    "gunnar"
   ]
  }
 ],
 "metadata": {
  "kernelspec": {
   "display_name": "AdventOfCode2022-QRNWGIqt",
   "language": "python",
   "name": "python3"
  },
  "language_info": {
   "codemirror_mode": {
    "name": "ipython",
    "version": 3
   },
   "file_extension": ".py",
   "mimetype": "text/x-python",
   "name": "python",
   "nbconvert_exporter": "python",
   "pygments_lexer": "ipython3",
   "version": "3.9.7"
  },
  "orig_nbformat": 4,
  "vscode": {
   "interpreter": {
    "hash": "fb7c721d01b4e70f8ad18a3528640154ea33399894e3ce677614a6f0ea9021d8"
   }
  }
 },
 "nbformat": 4,
 "nbformat_minor": 2
}
