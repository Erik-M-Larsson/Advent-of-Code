{
 "cells": [
  {
   "cell_type": "markdown",
   "metadata": {},
   "source": [
    "## 4.1"
   ]
  },
  {
   "cell_type": "code",
   "execution_count": 1,
   "metadata": {},
   "outputs": [
    {
     "name": "stdout",
     "output_type": "stream",
     "text": [
      "657\n"
     ]
    }
   ],
   "source": [
    "path = \"input_data/4_1.txt\"\n",
    "with open(path,'r') as f:\n",
    "    rader = [rad.split(';') for rad in f.read().replace(',', ';').replace('-', ',').splitlines()]\n",
    "\n",
    "print(sum([max(len(l_1:=eval(f\"list(range({rad[0]}+1))\")), len(l_2:=eval(f\"list(range({rad[1]}+1))\"))) == len(set(l_1+l_2)) for rad in rader]))\n"
   ]
  },
  {
   "cell_type": "markdown",
   "metadata": {},
   "source": [
    "## 4.2"
   ]
  },
  {
   "cell_type": "code",
   "execution_count": 11,
   "metadata": {},
   "outputs": [
    {
     "name": "stdout",
     "output_type": "stream",
     "text": [
      "938\n"
     ]
    }
   ],
   "source": [
    "path = \"input_data/4_1.txt\"\n",
    "with open(path,'r') as f:\n",
    "    rader = [rad.split(';') for rad in f.read().replace(',', ';').replace('-', ',').splitlines()]\n",
    "\n",
    "print(sum([sum((len(l_1:=eval(f\"list(range({rad[0]}+1))\")), len(l_2:=eval(f\"list(range({rad[1]}+1))\")))) > len(set(l_1+l_2)) for rad in rader]))\n"
   ]
  },
  {
   "cell_type": "markdown",
   "metadata": {},
   "source": [
    "## Kryptering"
   ]
  },
  {
   "cell_type": "code",
   "execution_count": 12,
   "metadata": {},
   "outputs": [],
   "source": [
    "program = \"\"\"path = \"input_data/4_1.txt\"\n",
    "with open(path,'r') as f:\n",
    "    rader = [rad.split(';') for rad in f.read().replace(',', ';').replace('-', ',').splitlines()]\n",
    "\n",
    "print(sum([sum((len(l_1:=eval(f\"list(range({rad[0]}+1))\")), len(l_2:=eval(f\"list(range({rad[1]}+1))\")))) > len(set(l_1+l_2)) for rad in rader]))\"\"\"\n"
   ]
  },
  {
   "cell_type": "code",
   "execution_count": 13,
   "metadata": {},
   "outputs": [
    {
     "data": {
      "text/plain": [
       "('\\' 4fh  3r ea  41) fd+10f) fb2112>102\\' 75r 43a 61\\' 80a bfl 8c( 6de 6cs a4\" fcd123n  9a  fa 27) 2es 93/ 12f b7n c0p  0. 16l 8f\\' 70+ f8] cad 62o117: dch 29d  e  5ca e0( a7) 64t 17i ba110e)100a 11) d1i 1d1 af_  di  8l b9\"  7. 77) 76d 58d c7( b6[ 42t 28\" e4d 45d 3cl110\\' 851 cd) 50, 83 119e 67e 92r11ar125  59i e6\\' 82( e2r 5fn11f)127   6( a8e d6n 91( efi11e  32f 52g c1l 69a 44r 2c( 9e4 13c 7dr 3e: b0e der 54} f7e c2: 34i 9b_ ae( 7f 11da122( c3t 19= dd, 6fl adg edp 22r121   4d11c; 4e2 dbr c5n 5b  36\\' 4d[ a3s108s 31n ecr118a eb\\' 2b( e9 120t e8_ dat 1ep 8b) fee 231 f9l104x 18  55e 3da 57t 8ee 7e  72)113u a0e109( bd 101d f3p 7a[ c8v dfo 21r 3at10a( d8s e7)128f e3f116a 6a= 40 115. 65(107f 5d\\n 35t 10l d5a f21 f5{ c4- 81a b4_ 14r 66. 89) ce) 88i 8dt 9d\\' 73\\n 97(10bs 47n abn 24, 71n 9c) ff  51) fa  38]126{ f0  37u  b)114p 26  20i 90_10d( 94w 1c. 46v b3l b5t  2} cbh 1fa11bm a1\" 1a] 96) cft  c, d3r be\\n 1b, 2ap  ap 99, 86= b1l e50 c9a c6+ ccs bbo 53e124l e1  39_111e105( a2( 25\\' 6ea  1; 74p 68s 9fr f1l d9a 30e aal a9\" d0m a6( 63\\n 98 103  2fs 8at bcl 49  3fr 9a[ f4r 78e b2f 33\\' 2de eee 60) d2c 6bi 5a( 4c. 5ee 79n106l 7bi 4a( act 4bn d7) 95r 561 15u a5] f6  84=  5\" b8a 3bp 48a 7c  d4\\' 87l10c',\n",
       " 4)"
      ]
     },
     "execution_count": 13,
     "metadata": {},
     "output_type": "execute_result"
    }
   ],
   "source": [
    "from random import shuffle\n",
    "α = program\n",
    "β = list(range(len(α)))\n",
    "\n",
    "temp = list(zip(α, β))\n",
    "shuffle(temp)\n",
    "α, β = zip(*temp)\n",
    "\n",
    "λ=len(str(max(β)))\n",
    "γ = \"\".join(list(map(lambda x: str(hex(x)[2:]).rjust(λ), β)))\n",
    "\n",
    "\n",
    "\"\".join([χ+γ[λ*i:λ*i+λ] for i, (χ, _) in enumerate(zip (α, γ[::λ]))]), λ+1"
   ]
  },
  {
   "cell_type": "code",
   "execution_count": null,
   "metadata": {},
   "outputs": [],
   "source": []
  }
 ],
 "metadata": {
  "kernelspec": {
   "display_name": "Python 3.9.7 ('AdventOfCode2022-QRNWGIqt')",
   "language": "python",
   "name": "python3"
  },
  "language_info": {
   "codemirror_mode": {
    "name": "ipython",
    "version": 3
   },
   "file_extension": ".py",
   "mimetype": "text/x-python",
   "name": "python",
   "nbconvert_exporter": "python",
   "pygments_lexer": "ipython3",
   "version": "3.9.7"
  },
  "orig_nbformat": 4,
  "vscode": {
   "interpreter": {
    "hash": "fb7c721d01b4e70f8ad18a3528640154ea33399894e3ce677614a6f0ea9021d8"
   }
  }
 },
 "nbformat": 4,
 "nbformat_minor": 2
}
