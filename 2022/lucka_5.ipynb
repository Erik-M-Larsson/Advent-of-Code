{
 "cells": [
  {
   "cell_type": "markdown",
   "metadata": {},
   "source": [
    "## Del 1"
   ]
  },
  {
   "cell_type": "code",
   "execution_count": 179,
   "metadata": {},
   "outputs": [],
   "source": [
    "file_path = \"input_data/5.txt\"\n",
    "with open(file_path, \"r\") as f:\n",
    "    data = f.read()#.splitlines()\n",
    "\n",
    "stacks, moves  = tuple(data.split(\"\\n\\n\"))\n",
    "stacks, moves = stacks.splitlines(), moves.splitlines()"
   ]
  },
  {
   "cell_type": "code",
   "execution_count": 180,
   "metadata": {},
   "outputs": [],
   "source": [
    "def spelplan(stacks):\n",
    "\n",
    "    antal_staplar = len(stacks[-1].split())\n",
    "    staplar = [[] for i in range(1,antal_staplar+1)]\n",
    "\n",
    "    for rad in stacks[-2::-1]:\n",
    "        for i in range(antal_staplar):\n",
    "            lådda=rad[4*i:4*i+3]\n",
    "            if lådda != \"   \":\n",
    "                staplar[i].append(lådda)\n",
    "    \n",
    "    return staplar\n"
   ]
  },
  {
   "cell_type": "code",
   "execution_count": 181,
   "metadata": {},
   "outputs": [],
   "source": [
    "def cratemover_9000(antal, från, till):\n",
    "    från -= 1 \n",
    "    till -= 1\n",
    "    for _ in range(antal):\n",
    "        staplar[till].append(staplar[från].pop()) \n",
    "     "
   ]
  },
  {
   "cell_type": "code",
   "execution_count": 182,
   "metadata": {},
   "outputs": [
    {
     "data": {
      "text/plain": [
       "'HBTMTBSDC'"
      ]
     },
     "execution_count": 182,
     "metadata": {},
     "output_type": "execute_result"
    }
   ],
   "source": [
    "staplar = spelplan(stacks)\n",
    "\n",
    "for move in moves:\n",
    "    m = move.split()\n",
    "    cratemover_9000(int(m[1]), int(m[3]), int(m[5]))\n",
    "    \n",
    "\"\".join([stapel[-1][1] for stapel in staplar])"
   ]
  },
  {
   "cell_type": "markdown",
   "metadata": {},
   "source": [
    "## Del 2"
   ]
  },
  {
   "cell_type": "code",
   "execution_count": 183,
   "metadata": {},
   "outputs": [],
   "source": [
    "def cratemover_9001(antal, från, till):\n",
    "    från -= 1 \n",
    "    till -= 1\n",
    "    \n",
    "    staplar[till].extend(staplar[från][-antal:]) \n",
    "    staplar[från] = staplar[från][:-antal]"
   ]
  },
  {
   "cell_type": "code",
   "execution_count": 184,
   "metadata": {},
   "outputs": [
    {
     "data": {
      "text/plain": [
       "'PQTJRSHWS'"
      ]
     },
     "execution_count": 184,
     "metadata": {},
     "output_type": "execute_result"
    }
   ],
   "source": [
    "staplar = spelplan(stacks)\n",
    "\n",
    "for move in moves:\n",
    "    m = move.split()\n",
    "    cratemover_9001(int(m[1]), int(m[3]), int(m[5]))\n",
    "    \n",
    "\"\".join([stapel[-1][1] for stapel in staplar])"
   ]
  }
 ],
 "metadata": {
  "kernelspec": {
   "display_name": "Python 3.9.7 ('AdventOfCode2022-QRNWGIqt')",
   "language": "python",
   "name": "python3"
  },
  "language_info": {
   "codemirror_mode": {
    "name": "ipython",
    "version": 3
   },
   "file_extension": ".py",
   "mimetype": "text/x-python",
   "name": "python",
   "nbconvert_exporter": "python",
   "pygments_lexer": "ipython3",
   "version": "3.9.7"
  },
  "orig_nbformat": 4,
  "vscode": {
   "interpreter": {
    "hash": "fb7c721d01b4e70f8ad18a3528640154ea33399894e3ce677614a6f0ea9021d8"
   }
  }
 },
 "nbformat": 4,
 "nbformat_minor": 2
}
