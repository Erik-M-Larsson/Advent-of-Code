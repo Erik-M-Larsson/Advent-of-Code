{
 "cells": [
  {
   "cell_type": "markdown",
   "metadata": {},
   "source": [
    "# Dag 11\n",
    "\n",
    "Jävla apor"
   ]
  },
  {
   "cell_type": "code",
   "execution_count": 1,
   "metadata": {},
   "outputs": [
    {
     "data": {
      "text/plain": [
       "['Monkey 0:\\n  Starting items: 50, 70, 89, 75, 66, 66\\n  Operation: new = old * 5\\n  Test: divisible by 2\\n    If true: throw to monkey 2\\n    If false: throw to monkey 1',\n",
       " 'Monkey 1:\\n  Starting items: 85\\n  Operation: new = old * old\\n  Test: divisible by 7\\n    If true: throw to monkey 3\\n    If false: throw to monkey 6',\n",
       " 'Monkey 2:\\n  Starting items: 66, 51, 71, 76, 58, 55, 58, 60\\n  Operation: new = old + 1\\n  Test: divisible by 13\\n    If true: throw to monkey 1\\n    If false: throw to monkey 3',\n",
       " 'Monkey 3:\\n  Starting items: 79, 52, 55, 51\\n  Operation: new = old + 6\\n  Test: divisible by 3\\n    If true: throw to monkey 6\\n    If false: throw to monkey 4',\n",
       " 'Monkey 4:\\n  Starting items: 69, 92\\n  Operation: new = old * 17\\n  Test: divisible by 19\\n    If true: throw to monkey 7\\n    If false: throw to monkey 5',\n",
       " 'Monkey 5:\\n  Starting items: 71, 76, 73, 98, 67, 79, 99\\n  Operation: new = old + 8\\n  Test: divisible by 5\\n    If true: throw to monkey 0\\n    If false: throw to monkey 2',\n",
       " 'Monkey 6:\\n  Starting items: 82, 76, 69, 69, 57\\n  Operation: new = old + 7\\n  Test: divisible by 11\\n    If true: throw to monkey 7\\n    If false: throw to monkey 4',\n",
       " 'Monkey 7:\\n  Starting items: 65, 79, 86\\n  Operation: new = old + 5\\n  Test: divisible by 17\\n    If true: throw to monkey 5\\n    If false: throw to monkey 0\\n']"
      ]
     },
     "execution_count": 1,
     "metadata": {},
     "output_type": "execute_result"
    }
   ],
   "source": [
    "långfil = \"input_data/11.txt\"\n",
    "with open(långfil, \"r\") as f:\n",
    "    apdata = f.read().split(\"\\n\\n\")\n",
    "\n",
    "apdata"
   ]
  },
  {
   "cell_type": "markdown",
   "metadata": {},
   "source": [
    "## Del 1\n"
   ]
  },
  {
   "cell_type": "code",
   "execution_count": 2,
   "metadata": {},
   "outputs": [],
   "source": [
    "class Apa():\n",
    "    \"\"\"Klass för aporna\"\"\"\n",
    "    def __init__(self, saker: list = None, operation: object = None, delare: int = None, om_sann: object = None, om_falsk: object =None, orokontroll: int = 3):\n",
    "        self.saker = saker\n",
    "        self.operation = operation\n",
    "        self.delare = delare\n",
    "        self.om_sann = om_sann\n",
    "        self.om_falsk = om_falsk\n",
    "        self.orokontroll = orokontroll\n",
    "        self.inspekterade = 0 \n",
    "\n",
    "    def kasta(self):\n",
    "        while len(self.saker):\n",
    "                \n",
    "            old = self.saker.pop(0)\n",
    "            sak = self.operation(old) // self.orokontroll\n",
    "            if sak % self.delare == 0:\n",
    "                mottagare = self.om_sann\n",
    "            else:\n",
    "                mottagare = self.om_falsk\n",
    "            \n",
    "            self.inspekterade += 1\n",
    "\n",
    "            mottagare.fånga(sak)    \n",
    "\n",
    "    def fånga(self, sak: int):\n",
    "        self.saker.append(sak)    "
   ]
  },
  {
   "cell_type": "code",
   "execution_count": 3,
   "metadata": {},
   "outputs": [
    {
     "data": {
      "text/plain": [
       "151312"
      ]
     },
     "execution_count": 3,
     "metadata": {},
     "output_type": "execute_result"
    }
   ],
   "source": [
    "# Skapa apor\n",
    "apor = [Apa() for _ in apdata]   \n",
    "\n",
    "# Fyll apor med inehållet i datan\n",
    "for apa_, rad in zip(apor, apdata):\n",
    "    data = rad.splitlines()\n",
    "    apa_.saker = eval(f\"[{data[1][18:]}]\")\n",
    "    apa_.operation = lambda old, data=data: eval(data[2][19:])\n",
    "    apa_.delare = int(data[3][21:])\n",
    "    apa_.om_sann = apor[int(data[4][-1])]\n",
    "    apa_.om_falsk = apor[int(data[5][-1])]\n",
    "\n",
    "# Kör 20 rundor\n",
    "for i in range(20):\n",
    "    for apa_ in apor:\n",
    "        apa_.kasta()\n",
    "    \n",
    "monkey_business = (l:= sorted([a.inspekterade for a in apor]))[-2] * l[-1]\n",
    "monkey_business"
   ]
  },
  {
   "attachments": {},
   "cell_type": "markdown",
   "metadata": {},
   "source": [
    "## Del 2"
   ]
  },
  {
   "cell_type": "code",
   "execution_count": 4,
   "metadata": {},
   "outputs": [],
   "source": [
    "class Apa2():\n",
    "    \"\"\"Klass för aporna\"\"\"\n",
    "    def __init__(self, saker: list = None, operation: object = None, delare: int = None, om_sann: object = None, om_falsk: object = None, orokontroll: int = None):\n",
    "        self.saker = saker\n",
    "        self.operation = operation\n",
    "        self.delare = delare\n",
    "        self.om_sann = om_sann\n",
    "        self.om_falsk = om_falsk\n",
    "        self.orokontroll = orokontroll\n",
    "        self.inspekterade = 0 \n",
    "\n",
    "    def kasta(self):\n",
    "        while len(self.saker):\n",
    "                \n",
    "            old = self.saker.pop(0)\n",
    "            sak = self.operation(old)  % self.orokontroll\n",
    "            \n",
    "            if sak % self.delare == 0:\n",
    "                mottagare = self.om_sann\n",
    "            else:\n",
    "                mottagare = self.om_falsk\n",
    "            \n",
    "            self.inspekterade += 1\n",
    "            \n",
    "            mottagare.fånga(sak)    \n",
    "\n",
    "    def fånga(self, sak: int):\n",
    "        self.saker.append(sak)    "
   ]
  },
  {
   "cell_type": "code",
   "execution_count": 5,
   "metadata": {},
   "outputs": [
    {
     "name": "stdout",
     "output_type": "stream",
     "text": [
      "10000\r"
     ]
    },
    {
     "data": {
      "text/plain": [
       "51382025916"
      ]
     },
     "execution_count": 5,
     "metadata": {},
     "output_type": "execute_result"
    }
   ],
   "source": [
    "# Skapa apor\n",
    "apor = [Apa2() for _ in apdata]   \n",
    "\n",
    "# Fyll apor med inehållet i datan\n",
    "orokontroll = 1\n",
    "for apa_, rad in zip(apor, apdata):\n",
    "    data = rad.splitlines()\n",
    "    apa_.saker = eval(f\"[{data[1][18:]}]\")\n",
    "    apa_.operation = lambda old, data=data: eval(data[2][19:])\n",
    "    apa_.delare = int(data[3][21:])\n",
    "    orokontroll *= apa_.delare\n",
    "    apa_.om_sann = apor[int(data[4][-1])]\n",
    "    apa_.om_falsk = apor[int(data[5][-1])]\n",
    "\n",
    "for apa_ in apor:\n",
    "    apa_.orokontroll = orokontroll   \n",
    "\n",
    "# Kör 10000 rundor\n",
    "for i in range(10000):\n",
    "    print(i+1, end=('\\r'))\n",
    "    for apa_ in apor:\n",
    "        apa_.kasta()\n",
    "\n",
    "monkey_business = (l:= sorted([a.inspekterade for a in apor]))[-2] * l[-1]\n",
    "monkey_business"
   ]
  }
 ],
 "metadata": {
  "kernelspec": {
   "display_name": "Python 3.9.7 64-bit",
   "language": "python",
   "name": "python3"
  },
  "language_info": {
   "codemirror_mode": {
    "name": "ipython",
    "version": 3
   },
   "file_extension": ".py",
   "mimetype": "text/x-python",
   "name": "python",
   "nbconvert_exporter": "python",
   "pygments_lexer": "ipython3",
   "version": "3.9.7 (tags/v3.9.7:1016ef3, Aug 30 2021, 20:19:38) [MSC v.1929 64 bit (AMD64)]"
  },
  "orig_nbformat": 4,
  "vscode": {
   "interpreter": {
    "hash": "fef3571d6bf085add123fca72cc02c04844d6759d57a6f41ae441c841ab8eee5"
   }
  }
 },
 "nbformat": 4,
 "nbformat_minor": 2
}
