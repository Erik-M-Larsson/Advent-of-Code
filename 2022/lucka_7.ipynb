{
 "cells": [
  {
   "cell_type": "markdown",
   "metadata": {},
   "source": [
    "## Del 1"
   ]
  },
  {
   "cell_type": "code",
   "execution_count": 56,
   "metadata": {},
   "outputs": [],
   "source": [
    "file_path = \"input_data/7.txt\"\n",
    "with open(file_path, \"r\") as f:\n",
    "    rader = f.read().splitlines()"
   ]
  },
  {
   "cell_type": "code",
   "execution_count": 57,
   "metadata": {},
   "outputs": [],
   "source": [
    "sökväg = [] \n",
    "träd = {'/':{}}\n",
    "\n",
    "for rad in rader:\n",
    "    rad_delar = rad.split()\n",
    "    if rad_delar[0] == \"$\":\n",
    "\n",
    "        if rad_delar[1] == \"cd\":\n",
    "            if rad_delar[2] == \"..\":\n",
    "                sökväg.pop()\n",
    "            else:\n",
    "                sökväg.append(rad_delar[2])\n",
    "        elif rad_delar[1] == \"ls\":\n",
    "            pass   \n",
    "    \n",
    "    elif rad_delar[0] == \"dir\":\n",
    "       \n",
    "        x = träd\n",
    "        for mapp in sökväg:\n",
    "            x = x[mapp]\n",
    "        x[rad_delar[1]] = {}\n",
    "        \n",
    "    else: #fil\n",
    "      \n",
    "        x = träd\n",
    "        for mapp in sökväg:\n",
    "            x = x[mapp]\n",
    "        x[rad_delar[1]] = rad_delar[0]\n"
   ]
  },
  {
   "cell_type": "code",
   "execution_count": 63,
   "metadata": {},
   "outputs": [
    {
     "data": {
      "text/plain": [
       "1667443"
      ]
     },
     "execution_count": 63,
     "metadata": {},
     "output_type": "execute_result"
    }
   ],
   "source": [
    "def storlek_1(bok):\n",
    "    total_storlek = 0\n",
    "    summa_mindre_än_100k = 0\n",
    "\n",
    "    for värde in bok.values():\n",
    "\n",
    "        if isinstance(värde, dict):\n",
    "            \n",
    "            storlek_mapp, mapp_summa_100 = storlek_1(värde)\n",
    "            total_storlek += storlek_mapp\n",
    "            summa_mindre_än_100k += mapp_summa_100\n",
    "\n",
    "            if storlek_mapp <= 100000:\n",
    "                summa_mindre_än_100k += storlek_mapp\n",
    "\n",
    "        else:\n",
    "            \n",
    "            total_storlek +=  int(värde)\n",
    "    \n",
    "    return total_storlek, summa_mindre_än_100k\n",
    "\n",
    "storlek_1(träd)[1]"
   ]
  },
  {
   "cell_type": "markdown",
   "metadata": {},
   "source": [
    "## Del 2"
   ]
  },
  {
   "cell_type": "code",
   "execution_count": 68,
   "metadata": {},
   "outputs": [],
   "source": [
    "def storlek_2(bok):\n",
    "    total_storlek = 0\n",
    "    storlekar = []\n",
    "\n",
    "    for värde in bok.values():\n",
    "\n",
    "        if isinstance(värde, dict):\n",
    "            \n",
    "            total_storlek_mapp, storlekar_mapp = storlek_2(värde)\n",
    "            total_storlek += total_storlek_mapp\n",
    "            storlekar.append(total_storlek_mapp)\n",
    "            storlekar.extend(storlekar_mapp)\n",
    "\n",
    "        else:\n",
    "            \n",
    "            total_storlek +=  int(värde)\n",
    "    \n",
    "    return total_storlek, storlekar\n"
   ]
  },
  {
   "cell_type": "code",
   "execution_count": 84,
   "metadata": {},
   "outputs": [
    {
     "data": {
      "text/plain": [
       "8998590"
      ]
     },
     "execution_count": 84,
     "metadata": {},
     "output_type": "execute_result"
    }
   ],
   "source": [
    "tot_storlek, storlekar = storlek_2(träd)\n",
    "min([ s for s in storlekar if s >= 30000000- (70000000 - tot_storlek)])"
   ]
  }
 ],
 "metadata": {
  "kernelspec": {
   "display_name": "Python 3.9.7 64-bit",
   "language": "python",
   "name": "python3"
  },
  "language_info": {
   "codemirror_mode": {
    "name": "ipython",
    "version": 3
   },
   "file_extension": ".py",
   "mimetype": "text/x-python",
   "name": "python",
   "nbconvert_exporter": "python",
   "pygments_lexer": "ipython3",
   "version": "3.9.7"
  },
  "orig_nbformat": 4,
  "vscode": {
   "interpreter": {
    "hash": "fef3571d6bf085add123fca72cc02c04844d6759d57a6f41ae441c841ab8eee5"
   }
  }
 },
 "nbformat": 4,
 "nbformat_minor": 2
}
