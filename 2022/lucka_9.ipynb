{
 "cells": [
  {
   "attachments": {},
   "cell_type": "markdown",
   "metadata": {},
   "source": [
    "# Dag 9\n",
    "Idag ska vi klara oss utan if-satster😄"
   ]
  },
  {
   "cell_type": "code",
   "execution_count": 64,
   "metadata": {},
   "outputs": [],
   "source": [
    "import numpy as numphy\n",
    "\n",
    "långfil = \"input_data/9.txt\"\n",
    "with open(långfil, \"r\") as f:\n",
    "    sköna_moves = f.read().splitlines()"
   ]
  },
  {
   "cell_type": "code",
   "execution_count": 65,
   "metadata": {},
   "outputs": [],
   "source": [
    "class plankRep():\n",
    "    def __init__(self, längd) -> None:\n",
    "        self.rep = numphy.zeros((längd,2),dtype=numphy.int16)\n",
    "        self._svanssvepta_platser = {tuple(self.rep[-1])}\n",
    "      \n",
    "    \n",
    "    def flöö(self, riktning, steg):\n",
    "       \n",
    "        for _ in range(steg):\n",
    "            self.rep[0][1-(abs(79-ord(riktning))<5)] += 1-2*(ord(riktning) < 80)\n",
    "            self.släpa_efter()\n",
    "\n",
    "    def släpa_efter(self):\n",
    "        \n",
    "        for i in range(1, self.rep.shape[0]):\n",
    "            eftersläp= self.rep[i-1] - self.rep[i]\n",
    "            släpis =  ((eftersläp >= 0) * 2 - 1)* numphy.ceil(abs(eftersläp)/2).astype(int) * (numphy.linalg.norm(eftersläp) >= 2)\n",
    "            self.rep[i] += släpis\n",
    "\n",
    "        self._svanssvepta_platser.update((tuple(self.rep[-1]),))\n",
    " \n",
    "    @property\n",
    "    def antal_besökta(self):\n",
    "        return len(self._svanssvepta_platser)"
   ]
  },
  {
   "cell_type": "markdown",
   "metadata": {},
   "source": [
    "## Del 1"
   ]
  },
  {
   "cell_type": "code",
   "execution_count": 68,
   "metadata": {},
   "outputs": [
    {
     "data": {
      "text/plain": [
       "5907"
      ]
     },
     "execution_count": 68,
     "metadata": {},
     "output_type": "execute_result"
    }
   ],
   "source": [
    "rep_1 = plankRep(2)\n",
    "for move in sköna_moves:\n",
    "    rep_1.flöö(move[0], int(move[2:]))\n",
    "    \n",
    "rep_1.antal_besökta"
   ]
  },
  {
   "attachments": {},
   "cell_type": "markdown",
   "metadata": {},
   "source": [
    "## Del 2"
   ]
  },
  {
   "cell_type": "code",
   "execution_count": 69,
   "metadata": {},
   "outputs": [
    {
     "data": {
      "text/plain": [
       "2303"
      ]
     },
     "execution_count": 69,
     "metadata": {},
     "output_type": "execute_result"
    }
   ],
   "source": [
    "rep_2 = plankRep(10)\n",
    "for move in sköna_moves:\n",
    "    rep_2.flöö(move[0], int(move[2:]))\n",
    "    \n",
    "rep_2.antal_besökta"
   ]
  }
 ],
 "metadata": {
  "kernelspec": {
   "display_name": "Python 3.9.7 ('AdventOfCode2022-QRNWGIqt')",
   "language": "python",
   "name": "python3"
  },
  "language_info": {
   "codemirror_mode": {
    "name": "ipython",
    "version": 3
   },
   "file_extension": ".py",
   "mimetype": "text/x-python",
   "name": "python",
   "nbconvert_exporter": "python",
   "pygments_lexer": "ipython3",
   "version": "3.9.7"
  },
  "orig_nbformat": 4,
  "vscode": {
   "interpreter": {
    "hash": "fb7c721d01b4e70f8ad18a3528640154ea33399894e3ce677614a6f0ea9021d8"
   }
  }
 },
 "nbformat": 4,
 "nbformat_minor": 2
}
