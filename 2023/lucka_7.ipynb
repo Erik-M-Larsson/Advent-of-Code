{
 "cells": [
  {
   "cell_type": "markdown",
   "metadata": {},
   "source": [
    "# Lucka 7"
   ]
  },
  {
   "cell_type": "code",
   "execution_count": 1,
   "metadata": {},
   "outputs": [],
   "source": [
    "import regex as re\n",
    "\n",
    "with open(\"input_data/input_7.txt\", \"r\") as file: \n",
    "    lines = file.read().splitlines()"
   ]
  },
  {
   "cell_type": "code",
   "execution_count": 2,
   "metadata": {},
   "outputs": [],
   "source": [
    "hand_types = (\"Five of a kind\", \"Four of a kind\", \"Full house\", \"Three of a kind\", \"Two pair\", \"One pair\", \"High card\")[::-1]\n",
    "strength_hands = {hand: i for i, hand in enumerate(hand_types)}"
   ]
  },
  {
   "cell_type": "markdown",
   "metadata": {},
   "source": [
    "## Del 1"
   ]
  },
  {
   "cell_type": "code",
   "execution_count": 3,
   "metadata": {},
   "outputs": [
    {
     "data": {
      "text/plain": [
       "250370104"
      ]
     },
     "execution_count": 3,
     "metadata": {},
     "output_type": "execute_result"
    }
   ],
   "source": [
    "strength_cards_1 = {card: i for i, card in enumerate((\"A\", \"K\", \"Q\", \"J\", \"T\", \"9\", \"8\", \"7\", \"6\", \"5\", \"4\", \"3\", \"2\")[::-1])}\n",
    "\n",
    "hands = []\n",
    "for line in lines:\n",
    "    hand, bid = line.split()\n",
    "    bid = int(bid)\n",
    "    \n",
    "    number_of_cards = sorted([len(re.findall(f\"[{char}]\", hand)) for char in strength_cards_1], reverse=True)\n",
    "    \n",
    "    if number_of_cards[0] == 1:\n",
    "        strength_hand = hand_types[0]\n",
    "    elif number_of_cards[0:2] == [2, 1]:\n",
    "        strength_hand = hand_types[1]\n",
    "    elif number_of_cards[0:2] == [2, 2]:\n",
    "        strength_hand = hand_types[2]\n",
    "    elif number_of_cards[0:2] == [3, 1]:\n",
    "        strength_hand = hand_types[3]\n",
    "    elif number_of_cards[0:2] == [3, 2]:\n",
    "        strength_hand = hand_types[4] \n",
    "    elif number_of_cards[0] == 4:\n",
    "        strength_hand = hand_types[5]\n",
    "    elif number_of_cards[0] == 5:\n",
    "        strength_hand = hand_types[6]\n",
    "    else:\n",
    "        raise ValueError(number_of_cards)\n",
    "\n",
    "    hands.append((strength_hand, hand, bid))\n",
    "    \n",
    "hands.sort(key=lambda hand: (strength_hands[hand[0]], list(strength_cards_1[char] for char in hand[1])))\n",
    "\n",
    "sum([rank * hand[2] for rank, hand in enumerate(hands, 1)])"
   ]
  },
  {
   "cell_type": "markdown",
   "metadata": {},
   "source": [
    "## Del 2\n"
   ]
  },
  {
   "cell_type": "code",
   "execution_count": 4,
   "metadata": {},
   "outputs": [
    {
     "data": {
      "text/plain": [
       "251735672"
      ]
     },
     "execution_count": 4,
     "metadata": {},
     "output_type": "execute_result"
    }
   ],
   "source": [
    "strength_cards_2 = {card: i for i, card in enumerate((\"A\", \"K\", \"Q\", \"T\", \"9\", \"8\", \"7\", \"6\", \"5\", \"4\", \"3\", \"2\", \"J\")[::-1])}\n",
    "\n",
    "hands = []\n",
    "for line in lines:\n",
    "    hand, bid = line.split()\n",
    "    bid = int(bid)\n",
    "\n",
    "    number_of_cards = sorted([len(re.findall(f\"[{char}]\", hand)) for char in strength_cards_2 if char != \"J\"], reverse=True)\n",
    "    number_of_jokers = len(re.findall(f\"[J]\", hand))\n",
    "    \n",
    "    if number_of_cards[0] == 1 - number_of_jokers:\n",
    "        strength_hand = hand_types[0]\n",
    "    elif number_of_cards[0:2] == [2 - number_of_jokers, 1]:\n",
    "        strength_hand = hand_types[1]\n",
    "    elif number_of_cards[0:2] == [2 - number_of_jokers, 2]:\n",
    "        strength_hand = hand_types[2]\n",
    "    elif number_of_cards[0:2] == [3 - number_of_jokers, 1]:\n",
    "        strength_hand = hand_types[3]\n",
    "    elif number_of_cards[0:2] == [3 - number_of_jokers, 2]:\n",
    "        strength_hand = hand_types[4] \n",
    "    elif number_of_cards[0] == 4 - number_of_jokers:\n",
    "        strength_hand = hand_types[5]\n",
    "    elif number_of_cards[0] == 5 - number_of_jokers:\n",
    "        strength_hand = hand_types[6]\n",
    "    else:\n",
    "        raise ValueError(number_of_cards, number_of_jokers)\n",
    "\n",
    "    hands.append((strength_hand, hand, bid))\n",
    "    \n",
    "hands.sort(key=lambda hand: (strength_hands[hand[0]], list(strength_cards_2[char] for char in hand[1])))\n",
    "\n",
    "sum([rank * hand[2] for rank, hand in enumerate(hands, 1)])"
   ]
  }
 ],
 "metadata": {
  "kernelspec": {
   "display_name": "venv",
   "language": "python",
   "name": "python3"
  },
  "language_info": {
   "codemirror_mode": {
    "name": "ipython",
    "version": 3
   },
   "file_extension": ".py",
   "mimetype": "text/x-python",
   "name": "python",
   "nbconvert_exporter": "python",
   "pygments_lexer": "ipython3",
   "version": "3.11.6"
  }
 },
 "nbformat": 4,
 "nbformat_minor": 2
}
