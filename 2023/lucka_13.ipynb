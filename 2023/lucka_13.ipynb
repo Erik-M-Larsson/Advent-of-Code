{
 "cells": [
  {
   "cell_type": "markdown",
   "metadata": {},
   "source": [
    "# Lucka 13"
   ]
  },
  {
   "cell_type": "code",
   "execution_count": 1,
   "metadata": {},
   "outputs": [],
   "source": [
    "import aocd\n",
    "import numpy as np\n",
    "\n",
    "with open(\"input_data/input_13.txt\", \"r\") as file: \n",
    "    patterns= file.read().split(\"\\n\\n\")"
   ]
  },
  {
   "cell_type": "markdown",
   "metadata": {},
   "source": [
    "## Del 1 & 2"
   ]
  },
  {
   "cell_type": "code",
   "execution_count": 2,
   "metadata": {},
   "outputs": [
    {
     "data": {
      "text/plain": [
       "(27502, 31947)"
      ]
     },
     "execution_count": 2,
     "metadata": {},
     "output_type": "execute_result"
    }
   ],
   "source": [
    "mirror_index_1 = []\n",
    "mirror_index_2 = []\n",
    "\n",
    "for pattern in patterns:\n",
    "    arr = np.array([list(row) for row in pattern.splitlines()])\n",
    "\n",
    "    column_length, row_length = arr.shape\n",
    "    \n",
    "\n",
    "    for i in range(1, max(row_length, column_length)):\n",
    "        \n",
    "        if i < row_length:\n",
    "            mask = (arr[:, max(2 * i - row_length, 0):i] == np.fliplr(arr[:, i:2 * i]))\n",
    "\n",
    "            # Check for vertical mirror line |\n",
    "            if mask.all():\n",
    "                mirror_index_1.append(i)\n",
    "            \n",
    "            # Check for smudge and new vertical mirror line |\n",
    "            if  (~ mask).sum() == 1:\n",
    "                mirror_index_2.append(i)\n",
    "\n",
    "        if i < column_length:\n",
    "            mask = (arr[max(2 * i - column_length, 0):i, :] == np.flipud(arr[i: min(2 * i, column_length), :]))\n",
    "\n",
    "            # Check for horizontal mirror line -\n",
    "            if (mask).all():\n",
    "                mirror_index_1.append(100 * i)\n",
    "            \n",
    "            # Check for smudge and new horizontal mirror line -\n",
    "            if  (~ mask).sum() == 1:\n",
    "                mirror_index_2.append(100 * i)   \n",
    "\n",
    "\n",
    "answer_1 = sum(mirror_index_1)\n",
    "answer_2 = sum(mirror_index_2)\n",
    "answer_1, answer_2"
   ]
  },
  {
   "cell_type": "markdown",
   "metadata": {},
   "source": [
    "### Skicka in del 1"
   ]
  },
  {
   "cell_type": "code",
   "execution_count": 3,
   "metadata": {},
   "outputs": [
    {
     "name": "stdout",
     "output_type": "stream",
     "text": [
      "aocd will not submit that answer again. At 2023-12-15 13:18:02.139529-05:00 you've previously submitted 27502 and the server responded with:\n",
      "\u001b[32mThat's the right answer!  You are one gold star closer to restoring snow operations. [Continue to Part Two]\u001b[0m\n"
     ]
    }
   ],
   "source": [
    "aocd.submit(answer_1, day=13, part=\"a\")"
   ]
  },
  {
   "cell_type": "markdown",
   "metadata": {},
   "source": [
    "### Skicka in del 2"
   ]
  },
  {
   "cell_type": "code",
   "execution_count": 4,
   "metadata": {},
   "outputs": [
    {
     "name": "stdout",
     "output_type": "stream",
     "text": [
      "aocd will not submit that answer again. At 2023-12-15 14:12:55.532057-05:00 you've previously submitted 31947 and the server responded with:\n",
      "\u001b[32mThat's the right answer!  You are one gold star closer to restoring snow operations.You have completed Day 13! You can [Shareon\n",
      "  Twitter\n",
      "Mastodon] this victory or [Return to Your Advent Calendar].\u001b[0m\n"
     ]
    }
   ],
   "source": [
    "aocd.submit(answer_2, day=13, part=\"b\")"
   ]
  }
 ],
 "metadata": {
  "kernelspec": {
   "display_name": "venv",
   "language": "python",
   "name": "python3"
  },
  "language_info": {
   "codemirror_mode": {
    "name": "ipython",
    "version": 3
   },
   "file_extension": ".py",
   "mimetype": "text/x-python",
   "name": "python",
   "nbconvert_exporter": "python",
   "pygments_lexer": "ipython3",
   "version": "3.11.6"
  }
 },
 "nbformat": 4,
 "nbformat_minor": 2
}
