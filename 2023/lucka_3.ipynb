{
 "cells": [
  {
   "cell_type": "markdown",
   "metadata": {},
   "source": [
    "# Lucka 1\n"
   ]
  },
  {
   "cell_type": "code",
   "execution_count": 1,
   "metadata": {},
   "outputs": [],
   "source": [
    "from collections import defaultdict\n",
    "import regex as re\n",
    "\n",
    "\n",
    "with open(\"input_data/input_3.txt\", \"r\") as f: \n",
    "    schematic = f.read()"
   ]
  },
  {
   "cell_type": "code",
   "execution_count": 2,
   "metadata": {},
   "outputs": [
    {
     "data": {
      "text/plain": [
       "141"
      ]
     },
     "execution_count": 2,
     "metadata": {},
     "output_type": "execute_result"
    }
   ],
   "source": [
    "row_length = schematic.find(\"\\n\") + 1\n",
    "row_length"
   ]
  },
  {
   "cell_type": "markdown",
   "metadata": {},
   "source": [
    "## Del 1\n"
   ]
  },
  {
   "cell_type": "code",
   "execution_count": 3,
   "metadata": {},
   "outputs": [
    {
     "data": {
      "text/plain": [
       "537732"
      ]
     },
     "execution_count": 3,
     "metadata": {},
     "output_type": "execute_result"
    }
   ],
   "source": [
    "sum_numbers = 0\n",
    "for find in re.finditer(r\"\\d+\", schematic):\n",
    "    start, end = find.span()\n",
    "    number = int(find[0])\n",
    "    \n",
    "    row_number = start // row_length\n",
    "\n",
    "    row_start = max(0, row_number - 1)\n",
    "    row_end = min(row_number + 1, row_length)\n",
    "\n",
    "    column_start = max(0, start % row_length - 1)\n",
    "    column_end = min(end % row_length + 1, row_length)\n",
    "\n",
    "    surrounding = \"\"\n",
    "    for row in range(row_start, row_end + 1):\n",
    "        start_pos = row * row_length + column_start\n",
    "        end_pos = row * row_length + column_end\n",
    "\n",
    "        surrounding += schematic[start_pos:end_pos]\n",
    "    \n",
    "    if re.findall(r\"[^.\\n\\d]+\", surrounding):\n",
    "        sum_numbers += number\n",
    "\n",
    "sum_numbers"
   ]
  },
  {
   "cell_type": "markdown",
   "metadata": {},
   "source": [
    "## Del 2\n"
   ]
  },
  {
   "cell_type": "code",
   "execution_count": 4,
   "metadata": {},
   "outputs": [
    {
     "data": {
      "text/plain": [
       "84883664"
      ]
     },
     "execution_count": 4,
     "metadata": {},
     "output_type": "execute_result"
    }
   ],
   "source": [
    "asterisk_numbers = defaultdict(lambda: 0)\n",
    "sum_ratios = 0\n",
    "\n",
    "for number_find in re.finditer(r\"\\d+\", schematic):\n",
    "    start, end = number_find.span()\n",
    "    number_1 = int(number_find[0])\n",
    "\n",
    "    row_number = start // row_length\n",
    "\n",
    "    row_start = max(0, row_number - 1)\n",
    "    row_end = min(row_number + 1, row_length)\n",
    "\n",
    "    column_start = max(0, start % row_length - 1)\n",
    "    column_end = min(end % row_length + 1, row_length)\n",
    "    \n",
    "    for row in range(row_start, row_end + 1):\n",
    "            \n",
    "        start_pos = row * row_length + column_start\n",
    "        end_pos = row * row_length + column_end\n",
    "    \n",
    "        for asterisk_find in re.finditer(r\"\\*\", schematic, pos=start_pos, endpos=end_pos):\n",
    "            span = asterisk_find.span()\n",
    "\n",
    "            number_2 = asterisk_numbers[span]\n",
    "\n",
    "            if number_2:\n",
    "                ratio = number_1 * number_2\n",
    "                sum_ratios += ratio    \n",
    "            else:\n",
    "                asterisk_numbers[span] = number_1\n",
    "\n",
    "sum_ratios"
   ]
  }
 ],
 "metadata": {
  "kernelspec": {
   "display_name": "venv",
   "language": "python",
   "name": "python3"
  },
  "language_info": {
   "codemirror_mode": {
    "name": "ipython",
    "version": 3
   },
   "file_extension": ".py",
   "mimetype": "text/x-python",
   "name": "python",
   "nbconvert_exporter": "python",
   "pygments_lexer": "ipython3",
   "version": "3.11.6"
  }
 },
 "nbformat": 4,
 "nbformat_minor": 2
}
