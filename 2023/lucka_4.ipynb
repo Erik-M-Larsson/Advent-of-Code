{
 "cells": [
  {
   "cell_type": "markdown",
   "metadata": {},
   "source": [
    "# Lucka 1\n"
   ]
  },
  {
   "cell_type": "code",
   "execution_count": 1,
   "metadata": {},
   "outputs": [],
   "source": [
    "from collections import defaultdict\n",
    "\n",
    "with open(\"input_data/input_4.txt\", \"r\") as f: \n",
    "    lines = f.read().splitlines(keepends=True)"
   ]
  },
  {
   "cell_type": "code",
   "execution_count": 2,
   "metadata": {},
   "outputs": [],
   "source": [
    "index_colon = lines[0].find(\":\")"
   ]
  },
  {
   "cell_type": "code",
   "execution_count": 3,
   "metadata": {},
   "outputs": [],
   "source": [
    "def correct_numbers(line, index_colon):\n",
    "    number_str =\"\"\n",
    "    winning_numbers = set() \n",
    "    my_numbers = set()    \n",
    "    numbers = winning_numbers\n",
    "\n",
    "    for char in line[index_colon+2:]:\n",
    "\n",
    "        if str.isdigit(char):\n",
    "            number_str +=  char\n",
    "        else:\n",
    "            if number_str != \"\":\n",
    "                numbers.add(int(number_str))\n",
    "                number_str = \"\"\n",
    "\n",
    "            if char == \"|\":\n",
    "                numbers = my_numbers\n",
    "    \n",
    "    return  len(winning_numbers & my_numbers)"
   ]
  },
  {
   "cell_type": "markdown",
   "metadata": {},
   "source": [
    "## Del 1\n"
   ]
  },
  {
   "cell_type": "code",
   "execution_count": 4,
   "metadata": {},
   "outputs": [
    {
     "data": {
      "text/plain": [
       "21919"
      ]
     },
     "execution_count": 4,
     "metadata": {},
     "output_type": "execute_result"
    }
   ],
   "source": [
    "total_points = 0 \n",
    "\n",
    "for line in lines:\n",
    "    n_correct_numbers = correct_numbers(line, index_colon)\n",
    "\n",
    "    points = 2**(n_correct_numbers-1) if n_correct_numbers else 0\n",
    "    total_points += points\n",
    "\n",
    "total_points"
   ]
  },
  {
   "cell_type": "markdown",
   "metadata": {},
   "source": [
    "## Del 2\n"
   ]
  },
  {
   "cell_type": "code",
   "execution_count": 5,
   "metadata": {},
   "outputs": [
    {
     "data": {
      "text/plain": [
       "9881048"
      ]
     },
     "execution_count": 5,
     "metadata": {},
     "output_type": "execute_result"
    }
   ],
   "source": [
    "number_of_copies = defaultdict(lambda: 1)\n",
    "total_number_of_cards = 0 \n",
    "\n",
    "for card_number, line in enumerate(lines):\n",
    "    copies_current_card = number_of_copies[card_number]\n",
    "    total_number_of_cards += copies_current_card\n",
    "\n",
    "    n_correct_numbers = correct_numbers(line, index_colon)\n",
    "\n",
    "    for card_number_extra_copies in range(card_number+1, card_number + n_correct_numbers + 1):\n",
    "        number_of_copies[card_number_extra_copies] += copies_current_card\n",
    "\n",
    "total_number_of_cards"
   ]
  }
 ],
 "metadata": {
  "kernelspec": {
   "display_name": "venv",
   "language": "python",
   "name": "python3"
  },
  "language_info": {
   "codemirror_mode": {
    "name": "ipython",
    "version": 3
   },
   "file_extension": ".py",
   "mimetype": "text/x-python",
   "name": "python",
   "nbconvert_exporter": "python",
   "pygments_lexer": "ipython3",
   "version": "3.11.6"
  }
 },
 "nbformat": 4,
 "nbformat_minor": 2
}
