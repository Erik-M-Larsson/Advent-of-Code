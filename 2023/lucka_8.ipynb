{
 "cells": [
  {
   "cell_type": "markdown",
   "metadata": {},
   "source": [
    "# Lucka 8"
   ]
  },
  {
   "cell_type": "code",
   "execution_count": 1,
   "metadata": {},
   "outputs": [],
   "source": [
    "from itertools import cycle\n",
    "from math import lcm\n",
    "\n",
    "with open(\"input_data/input_8.txt\", \"r\") as file: \n",
    "    lines = file.read().splitlines()\n",
    "\n",
    "instructions = lines[0]    \n",
    "nodes = {line[0:3]: {\"L\": line[7:10], \"R\": line[12:15]} for line in lines[2:]}"
   ]
  },
  {
   "cell_type": "markdown",
   "metadata": {},
   "source": [
    "## Del 1"
   ]
  },
  {
   "cell_type": "code",
   "execution_count": 2,
   "metadata": {},
   "outputs": [
    {
     "data": {
      "text/plain": [
       "21797"
      ]
     },
     "execution_count": 2,
     "metadata": {},
     "output_type": "execute_result"
    }
   ],
   "source": [
    "node = \"AAA\" # Start\n",
    "\n",
    "for step, instruction in enumerate(cycle(instructions), 1):\n",
    "    node = nodes[node][instruction]\n",
    "  \n",
    "    if node == \"ZZZ\": # End\n",
    "        break\n",
    "\n",
    "step "
   ]
  },
  {
   "cell_type": "markdown",
   "metadata": {},
   "source": [
    "## Del 2"
   ]
  },
  {
   "cell_type": "code",
   "execution_count": 3,
   "metadata": {},
   "outputs": [
    {
     "data": {
      "text/plain": [
       "23977527174353"
      ]
     },
     "execution_count": 3,
     "metadata": {},
     "output_type": "execute_result"
    }
   ],
   "source": [
    "number_of_steps = []\n",
    "\n",
    "for node in nodes:\n",
    "    if node[-1] != \"A\": # Not a start node\n",
    "        continue\n",
    "\n",
    "    for step, instruction in enumerate(cycle(instructions), 1):\n",
    "        node = nodes[node][instruction]\n",
    "        \n",
    "        if node[-1] == \"Z\": # End node\n",
    "            break\n",
    "    \n",
    "    number_of_steps.append(step)       \n",
    "               \n",
    "lcm(*number_of_steps)"
   ]
  },
  {
   "cell_type": "markdown",
   "metadata": {},
   "source": [
    "__Observera!__\n",
    "\n",
    "Det här är inte en allmän lösning men den fungerar för att indatan är konstruerad på ett visst sätt: \n",
    "- Slingorna har samma längd som att ta sig från startnoden (A) till slutnoden (Z). Det är inte nödvändigtvis sant. Hade loopen gått tillbaka till startnoden hade det inte varit det till exempel.\n",
    "- Varje slutnod finns med i 1 och endast 1 slinga. Det hade varit tänkbart att man efter en slutnod går vidare till en annan slutnod och bildar en större slinga, med olika långt emellan slutnoderna. \n"
   ]
  }
 ],
 "metadata": {
  "kernelspec": {
   "display_name": "venv",
   "language": "python",
   "name": "python3"
  },
  "language_info": {
   "codemirror_mode": {
    "name": "ipython",
    "version": 3
   },
   "file_extension": ".py",
   "mimetype": "text/x-python",
   "name": "python",
   "nbconvert_exporter": "python",
   "pygments_lexer": "ipython3",
   "version": "3.11.6"
  }
 },
 "nbformat": 4,
 "nbformat_minor": 2
}
