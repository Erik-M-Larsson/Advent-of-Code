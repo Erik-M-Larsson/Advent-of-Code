{
 "cells": [
  {
   "cell_type": "markdown",
   "metadata": {},
   "source": [
    "# Lucka 12"
   ]
  },
  {
   "cell_type": "code",
   "execution_count": 1,
   "metadata": {},
   "outputs": [],
   "source": [
    "import aocd\n",
    "import regex\n",
    "from collections import defaultdict\n",
    "\n",
    "\n",
    "with open(\"input_data/input_12.txt\", \"r\") as file: \n",
    "    lines = file.read().splitlines()"
   ]
  },
  {
   "cell_type": "code",
   "execution_count": 2,
   "metadata": {},
   "outputs": [],
   "source": [
    "def arrangements(lines, folds):\n",
    "\n",
    "    all_arrangements = []\n",
    "    for line_number, line in enumerate(lines):\n",
    "        print(line_number, end=\"\\r\")\n",
    "\n",
    "        springs, size_groups = line.split()\n",
    "\n",
    "        # Unfold the condition records\n",
    "        expanded_springs = springs + (\"?\" + springs) * (folds - 1)\n",
    "        expanded_groups = size_groups + (\",\" + size_groups) * (folds - 1)\n",
    "        expanded_groups = list(map(int, expanded_groups.split(\",\")))\n",
    "        \n",
    "        indexes = defaultdict(lambda: 0, [(0, 1)])\n",
    "\n",
    "        # Fit all groups of #\n",
    "        for group in expanded_groups:\n",
    "            group = int(group)\n",
    "\n",
    "            next_indexes = defaultdict(lambda: 0,)\n",
    "\n",
    "            # Indexes of start points in string, with number of roads that leeds to this point.\n",
    "            for index, n_index in indexes.items():\n",
    "\n",
    "                # Start at index an step forward an try to fit a group #\n",
    "                for i, spring in enumerate(expanded_springs[index:]):\n",
    "\n",
    "                    # No group fits here\n",
    "                    if spring == \".\": \n",
    "                        continue\n",
    "                    \n",
    "                    #  Try to fit a # group \n",
    "                    if regex.match(fr\"[#,?]{{{group}}}[\\.,?]\", expanded_springs[index + i:] + \".\"):\n",
    "                        next_indexes[index + i + group + 1] += n_index\n",
    "\n",
    "                    # Group can't be placed after #\n",
    "                    if spring == \"#\":\n",
    "                        break\n",
    "\n",
    "            indexes = next_indexes\n",
    "        \n",
    "\n",
    "        # Check that no extra # after all placed groups\n",
    "        arrangements = 0\n",
    "        for idx, n in indexes.items():\n",
    "            if idx < len(expanded_springs):\n",
    "                if expanded_springs[idx:].find(\"#\") != -1:\n",
    "                    continue\n",
    "            arrangements += n\n",
    "            \n",
    "        all_arrangements.append(arrangements)\n",
    "    \n",
    "    total_arrangements = sum(all_arrangements)\n",
    "    return total_arrangements"
   ]
  },
  {
   "cell_type": "markdown",
   "metadata": {},
   "source": [
    "## Del 1"
   ]
  },
  {
   "cell_type": "code",
   "execution_count": 3,
   "metadata": {},
   "outputs": [
    {
     "name": "stdout",
     "output_type": "stream",
     "text": [
      "999\r"
     ]
    },
    {
     "data": {
      "text/plain": [
       "7599"
      ]
     },
     "execution_count": 3,
     "metadata": {},
     "output_type": "execute_result"
    }
   ],
   "source": [
    "total_arrangements_1 = arrangements(lines, 1)\n",
    "total_arrangements_1"
   ]
  },
  {
   "cell_type": "code",
   "execution_count": 4,
   "metadata": {},
   "outputs": [
    {
     "name": "stdout",
     "output_type": "stream",
     "text": [
      "aocd will not submit that answer again. At 2023-12-12 13:04:39.382342-05:00 you've previously submitted 7599 and the server responded with:\n",
      "\u001b[32mThat's the right answer!  You are one gold star closer to restoring snow operations. [Continue to Part Two]\u001b[0m\n"
     ]
    }
   ],
   "source": [
    "aocd.submit(total_arrangements_1, day=12, part=\"a\")"
   ]
  },
  {
   "cell_type": "markdown",
   "metadata": {},
   "source": [
    "# Del 2"
   ]
  },
  {
   "cell_type": "code",
   "execution_count": 5,
   "metadata": {},
   "outputs": [
    {
     "name": "stdout",
     "output_type": "stream",
     "text": [
      "999\r"
     ]
    },
    {
     "data": {
      "text/plain": [
       "15454556629917"
      ]
     },
     "execution_count": 5,
     "metadata": {},
     "output_type": "execute_result"
    }
   ],
   "source": [
    "total_arrangements_2 = arrangements(lines, 5)\n",
    "total_arrangements_2"
   ]
  },
  {
   "cell_type": "code",
   "execution_count": 6,
   "metadata": {},
   "outputs": [
    {
     "name": "stdout",
     "output_type": "stream",
     "text": [
      "aocd will not submit that answer again. At 2023-12-14 12:46:48.367888-05:00 you've previously submitted 15454556629917 and the server responded with:\n",
      "\u001b[32mThat's the right answer!  You are one gold star closer to restoring snow operations.You have completed Day 12! You can [Shareon\n",
      "  Twitter\n",
      "Mastodon] this victory or [Return to Your Advent Calendar].\u001b[0m\n"
     ]
    }
   ],
   "source": [
    "aocd.submit(total_arrangements_2, day=12, part=\"b\")\n"
   ]
  }
 ],
 "metadata": {
  "kernelspec": {
   "display_name": "venv",
   "language": "python",
   "name": "python3"
  },
  "language_info": {
   "codemirror_mode": {
    "name": "ipython",
    "version": 3
   },
   "file_extension": ".py",
   "mimetype": "text/x-python",
   "name": "python",
   "nbconvert_exporter": "python",
   "pygments_lexer": "ipython3",
   "version": "3.11.6"
  }
 },
 "nbformat": 4,
 "nbformat_minor": 2
}
