{
 "cells": [
  {
   "cell_type": "markdown",
   "metadata": {},
   "source": [
    "# Lucka 16\n"
   ]
  },
  {
   "cell_type": "code",
   "execution_count": 1,
   "metadata": {},
   "outputs": [],
   "source": [
    "import aocd\n",
    "import numpy as np"
   ]
  },
  {
   "cell_type": "code",
   "execution_count": 2,
   "metadata": {},
   "outputs": [
    {
     "data": {
      "text/plain": [
       "array([['\\\\', '.', '.', ..., '.', '.', '.'],\n",
       "       ['.', '.', '.', ..., '.', '.', '.'],\n",
       "       ['.', '-', '.', ..., '.', '.', '.'],\n",
       "       ...,\n",
       "       ['.', '.', '.', ..., '.', '|', '|'],\n",
       "       ['.', '-', '\\\\', ..., '.', '.', '.'],\n",
       "       ['\\\\', '.', '.', ..., '.', '.', '.']], dtype='<U1')"
      ]
     },
     "execution_count": 2,
     "metadata": {},
     "output_type": "execute_result"
    }
   ],
   "source": [
    "day = 16\n",
    "example = False\n",
    "example_n = 1\n",
    "\n",
    "with open(f\"input_data/input_{day}{f'_{example_n}_ex' if example else ''}.txt\", \"r\") as file: \n",
    "    lines = file.read().splitlines()\n",
    "    \n",
    "layout = np.array([list(line) for line in lines])\n",
    "side_length = layout.shape[0] # NOTE square grid according to instructions\n",
    "layout"
   ]
  },
  {
   "cell_type": "code",
   "execution_count": 3,
   "metadata": {},
   "outputs": [],
   "source": [
    "arrows = {\">\": 0, \"^\": 1, \"<\": 2, \"v\": 3}\n",
    "\n",
    "tiles_directions ={\n",
    "    \".\": {\">\": \">\", \"^\": \"^\", \"<\": \"<\", \"v\": \"v\"},\n",
    "    \"|\": {\">\": [\"^\", \"v\"] , \"^\": \"^\", \"<\": [\"^\", \"v\"], \"v\": \"v\"},\n",
    "    \"-\": {\">\":  \">\", \"^\": [\"<\", \">\"], \"<\": \"<\", \"v\": [\"<\", \">\"]},\n",
    "    \"/\": {\">\": \"^\", \"^\": \">\", \"<\": \"v\", \"v\": \"<\"},\n",
    "    \"\\\\\": {\">\": \"v\", \"^\": \"<\", \"<\": \"^\", \"v\": \">\"},   \n",
    "}"
   ]
  },
  {
   "cell_type": "markdown",
   "metadata": {},
   "source": [
    "## Del 1 & 2"
   ]
  },
  {
   "cell_type": "code",
   "execution_count": 4,
   "metadata": {},
   "outputs": [],
   "source": [
    "start_positions = []\n",
    "for i in range(layout.shape[0]):\n",
    "    start_positions.append(((i, 0), '>'))\n",
    "    start_positions.append(((i, side_length - 1), '<'))\n",
    "    start_positions.append(((0, i), 'v'))\n",
    "    start_positions.append(((side_length - 1, i), '^'))              \n"
   ]
  },
  {
   "cell_type": "code",
   "execution_count": 5,
   "metadata": {},
   "outputs": [
    {
     "data": {
      "text/plain": [
       "(6883, 7228)"
      ]
     },
     "execution_count": 5,
     "metadata": {},
     "output_type": "execute_result"
    }
   ],
   "source": [
    "number_of_energized = []\n",
    "for start_position in start_positions:\n",
    "    visited = np.zeros((4, *layout.shape), dtype=bool)\n",
    "\n",
    "    positions = [start_position]\n",
    "    while positions:\n",
    "\n",
    "        new_positions = []\n",
    "        for position, direction in positions:\n",
    "            \n",
    "            visited[arrows[direction] , *position] = True\n",
    "\n",
    "            tile = layout[position]\n",
    "            new_directions = tiles_directions[tile][direction] \n",
    "\n",
    "            for new_direction in new_directions:\n",
    "\n",
    "                if new_direction == \">\":\n",
    "                    new_position = position[0], position[1] + 1\n",
    "                elif new_direction == \"^\":\n",
    "                    new_position = position[0] - 1, position[1]\n",
    "                elif new_direction == \"<\":\n",
    "                    new_position = position[0], position[1] - 1           \n",
    "                elif new_direction == \"v\":\n",
    "                    new_position = position[0] + 1, position[1]\n",
    "\n",
    "                if (0 <= new_position[0] < side_length and # Check inside map\n",
    "                    0 <= new_position[1] < side_length and \n",
    "                    not visited[arrows[new_direction] , *new_position]): # Check for loops\n",
    "\n",
    "                    new_positions.append((new_position, new_direction))\n",
    "\n",
    "        positions = new_positions\n",
    "\n",
    "    number_of_energized.append(len(visited.sum(axis=0).nonzero()[0]))\n",
    "\n",
    "answer_1 = number_of_energized[0]    \n",
    "answer_2 = max(number_of_energized)\n",
    "answer_1, answer_2"
   ]
  },
  {
   "cell_type": "markdown",
   "metadata": {},
   "source": [
    "### Del 1"
   ]
  },
  {
   "cell_type": "code",
   "execution_count": 6,
   "metadata": {},
   "outputs": [
    {
     "name": "stdout",
     "output_type": "stream",
     "text": [
      "aocd will not submit that answer again. At 2023-12-16 01:29:43.397742-05:00 you've previously submitted 6883 and the server responded with:\n",
      "\u001b[32mThat's the right answer!  You are one gold star closer to restoring snow operations. [Continue to Part Two]\u001b[0m\n"
     ]
    }
   ],
   "source": [
    "aocd.submit(answer_1, day=day, part=\"a\")"
   ]
  },
  {
   "cell_type": "markdown",
   "metadata": {},
   "source": [
    "### Del 2"
   ]
  },
  {
   "cell_type": "code",
   "execution_count": 7,
   "metadata": {},
   "outputs": [
    {
     "name": "stdout",
     "output_type": "stream",
     "text": [
      "aocd will not submit that answer again. At 2023-12-16 01:51:34.445618-05:00 you've previously submitted 7228 and the server responded with:\n",
      "\u001b[32mThat's the right answer!  You are one gold star closer to restoring snow operations.You have completed Day 16! You can [Shareon\n",
      "  Twitter\n",
      "Mastodon] this victory or [Return to Your Advent Calendar].\u001b[0m\n"
     ]
    }
   ],
   "source": [
    "aocd.submit(answer_2, day=day, part=\"b\")"
   ]
  }
 ],
 "metadata": {
  "kernelspec": {
   "display_name": "venv",
   "language": "python",
   "name": "python3"
  },
  "language_info": {
   "codemirror_mode": {
    "name": "ipython",
    "version": 3
   },
   "file_extension": ".py",
   "mimetype": "text/x-python",
   "name": "python",
   "nbconvert_exporter": "python",
   "pygments_lexer": "ipython3",
   "version": "3.11.6"
  }
 },
 "nbformat": 4,
 "nbformat_minor": 2
}
