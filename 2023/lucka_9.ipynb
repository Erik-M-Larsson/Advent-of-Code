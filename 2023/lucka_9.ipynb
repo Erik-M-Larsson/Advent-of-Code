{
 "cells": [
  {
   "cell_type": "markdown",
   "metadata": {},
   "source": [
    "# Lucka 9\n"
   ]
  },
  {
   "cell_type": "code",
   "execution_count": 1,
   "metadata": {},
   "outputs": [],
   "source": [
    "import aocd\n",
    "\n",
    "with open(\"input_data/input_9.txt\", \"r\") as file: \n",
    "    lines = file.read().splitlines()"
   ]
  },
  {
   "cell_type": "markdown",
   "metadata": {},
   "source": [
    "## Del 1 & 2"
   ]
  },
  {
   "cell_type": "code",
   "execution_count": 2,
   "metadata": {},
   "outputs": [
    {
     "data": {
      "text/plain": [
       "(1019, 2105961943)"
      ]
     },
     "execution_count": 2,
     "metadata": {},
     "output_type": "execute_result"
    }
   ],
   "source": [
    "sum_extrapolated_first_values = 0\n",
    "sum_extrapolated_last_values = 0\n",
    "\n",
    "for line in lines:\n",
    "    sequence = [int(n) for n in line.split()]\n",
    "    first_numbers = [sequence[0]] \n",
    "    last_numbers = [sequence[-1]]\n",
    "\n",
    "    while any(sequence):\n",
    "        sequence = [n_2 - n_1 for n_1, n_2 in zip(sequence[:-1],sequence[1:])]\n",
    "        first_numbers.append(sequence[0]) \n",
    "        last_numbers.append(sequence[-1])\n",
    "\n",
    "    extrapolated_first_number, extrapolated_last_number = 0, 0\n",
    "    \n",
    "    for first_number, last_number in zip(first_numbers[::-1], last_numbers[::-1]):\n",
    "        extrapolated_first_number = first_number - extrapolated_first_number\n",
    "        extrapolated_last_number = last_number + extrapolated_last_number\n",
    "\n",
    "    sum_extrapolated_first_values += extrapolated_first_number\n",
    "    sum_extrapolated_last_values += extrapolated_last_number\n",
    "\n",
    "sum_extrapolated_first_values, sum_extrapolated_last_values   "
   ]
  },
  {
   "cell_type": "markdown",
   "metadata": {},
   "source": [
    "### Skicka in del 1"
   ]
  },
  {
   "cell_type": "code",
   "execution_count": 3,
   "metadata": {},
   "outputs": [
    {
     "name": "stdout",
     "output_type": "stream",
     "text": [
      "aocd will not submit that answer again. At 2023-12-09 02:18:41.225781-05:00 you've previously submitted 2105961943 and the server responded with:\n",
      "\u001b[32mThat's the right answer!  You are one gold star closer to restoring snow operations. [Continue to Part Two]\u001b[0m\n"
     ]
    }
   ],
   "source": [
    "aocd.submit(sum_extrapolated_last_values, part=\"a\")"
   ]
  },
  {
   "cell_type": "markdown",
   "metadata": {},
   "source": [
    "### Skicka in del 2"
   ]
  },
  {
   "cell_type": "code",
   "execution_count": 4,
   "metadata": {},
   "outputs": [
    {
     "name": "stdout",
     "output_type": "stream",
     "text": [
      "aocd will not submit that answer again. At 2023-12-09 02:48:18.600775-05:00 you've previously submitted 1019 and the server responded with:\n",
      "\u001b[32mThat's the right answer!  You are one gold star closer to restoring snow operations.You have completed Day 9! You can [Shareon\n",
      "  Twitter\n",
      "Mastodon] this victory or [Return to Your Advent Calendar].\u001b[0m\n"
     ]
    }
   ],
   "source": [
    "aocd.submit(sum_extrapolated_first_values, part=\"b\")"
   ]
  }
 ],
 "metadata": {
  "kernelspec": {
   "display_name": "venv",
   "language": "python",
   "name": "python3"
  },
  "language_info": {
   "codemirror_mode": {
    "name": "ipython",
    "version": 3
   },
   "file_extension": ".py",
   "mimetype": "text/x-python",
   "name": "python",
   "nbconvert_exporter": "python",
   "pygments_lexer": "ipython3",
   "version": "3.11.6"
  }
 },
 "nbformat": 4,
 "nbformat_minor": 2
}
