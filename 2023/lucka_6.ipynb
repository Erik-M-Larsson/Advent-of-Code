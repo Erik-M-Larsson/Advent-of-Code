{
 "cells": [
  {
   "cell_type": "markdown",
   "metadata": {},
   "source": [
    "# Lucka 6"
   ]
  },
  {
   "cell_type": "code",
   "execution_count": 1,
   "metadata": {},
   "outputs": [],
   "source": [
    "import math\n",
    "\n",
    "with open(\"input_data/input_6.txt\", \"r\") as file: \n",
    "    lines = file.read().splitlines(keepends=False)"
   ]
  },
  {
   "cell_type": "code",
   "execution_count": 2,
   "metadata": {},
   "outputs": [],
   "source": [
    "def ways_to_win(time, best_distance):\n",
    "\n",
    "    push_time_low = math.floor(time/2 - math.sqrt(time**2/4 - best_distance))\n",
    "    push_time_high = math.ceil(time/2 + math.sqrt(time**2/4 - best_distance))\n",
    "\n",
    "    number_of_ways_to_win = push_time_high - push_time_low - 1\n",
    "    \n",
    "    return number_of_ways_to_win"
   ]
  },
  {
   "cell_type": "markdown",
   "metadata": {},
   "source": [
    "## Del 1\n"
   ]
  },
  {
   "cell_type": "code",
   "execution_count": 3,
   "metadata": {},
   "outputs": [
    {
     "data": {
      "text/plain": [
       "{'race_0': {'time': 35, 'best_distance': 212},\n",
       " 'race_1': {'time': 93, 'best_distance': 2060},\n",
       " 'race_2': {'time': 73, 'best_distance': 1201},\n",
       " 'race_3': {'time': 66, 'best_distance': 1044}}"
      ]
     },
     "execution_count": 3,
     "metadata": {},
     "output_type": "execute_result"
    }
   ],
   "source": [
    "races = {f\"race_{i}\": {\"time\": int(time), \"best_distance\": int(distance)} for i, (time, distance) in enumerate(zip(lines[0].split()[1:], lines[1].split()[1:]))}\n",
    "races"
   ]
  },
  {
   "cell_type": "code",
   "execution_count": 4,
   "metadata": {},
   "outputs": [
    {
     "data": {
      "text/plain": [
       "114400"
      ]
     },
     "execution_count": 4,
     "metadata": {},
     "output_type": "execute_result"
    }
   ],
   "source": [
    "total = 1\n",
    "for race, race_data in races.items():\n",
    "    total *= ways_to_win(race_data[\"time\"], race_data[\"best_distance\"])\n",
    "\n",
    "total"
   ]
  },
  {
   "cell_type": "markdown",
   "metadata": {},
   "source": [
    "## Del 2"
   ]
  },
  {
   "cell_type": "code",
   "execution_count": 5,
   "metadata": {},
   "outputs": [
    {
     "data": {
      "text/plain": [
       "(35937366, 212206012011044)"
      ]
     },
     "execution_count": 5,
     "metadata": {},
     "output_type": "execute_result"
    }
   ],
   "source": [
    "time = int(\"\".join(lines[0].split()[1:]))\n",
    "best_distance = int(\"\".join(lines[1].split()[1:]))\n",
    "time, best_distance"
   ]
  },
  {
   "cell_type": "code",
   "execution_count": 6,
   "metadata": {},
   "outputs": [
    {
     "data": {
      "text/plain": [
       "21039729"
      ]
     },
     "execution_count": 6,
     "metadata": {},
     "output_type": "execute_result"
    }
   ],
   "source": [
    "ways_to_win(time, best_distance)"
   ]
  }
 ],
 "metadata": {
  "kernelspec": {
   "display_name": "venv",
   "language": "python",
   "name": "python3"
  },
  "language_info": {
   "codemirror_mode": {
    "name": "ipython",
    "version": 3
   },
   "file_extension": ".py",
   "mimetype": "text/x-python",
   "name": "python",
   "nbconvert_exporter": "python",
   "pygments_lexer": "ipython3",
   "version": "3.11.6"
  }
 },
 "nbformat": 4,
 "nbformat_minor": 2
}
