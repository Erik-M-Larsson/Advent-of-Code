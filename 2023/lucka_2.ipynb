{
 "cells": [
  {
   "cell_type": "markdown",
   "metadata": {},
   "source": [
    "# Lucka 2\n",
    "\n",
    "Lite småtråkiga och förnuftiga lösningar idag. Kanske kommer på något lite galnare senare idag 🤪\n",
    "\n",
    "Fick repetera lite regex åtminstone."
   ]
  },
  {
   "cell_type": "code",
   "execution_count": 43,
   "metadata": {},
   "outputs": [],
   "source": [
    "import regex as re\n",
    "\n",
    "with open(\"input_data/input_2.txt\", \"r\") as f: \n",
    "    lines = f.read().split(\"\\n\")"
   ]
  },
  {
   "cell_type": "markdown",
   "metadata": {},
   "source": [
    "## Del 1\n"
   ]
  },
  {
   "cell_type": "code",
   "execution_count": 112,
   "metadata": {},
   "outputs": [
    {
     "data": {
      "text/plain": [
       "2204"
      ]
     },
     "execution_count": 112,
     "metadata": {},
     "output_type": "execute_result"
    }
   ],
   "source": [
    "loaded_cubes = {\"red\": 12, \"green\": 13, \"blue\": 14}  \n",
    "\n",
    "sum_powers = 0\n",
    "for line in lines:\n",
    "    if not line:\n",
    "        continue\n",
    "\n",
    "    index_colon = line.find(\":\")\n",
    "    game_number = int(line[5:index_colon])\n",
    "    showed_sets = line[index_colon+2:].split(\"; \")\n",
    "\n",
    "    for find in re.finditer(r\"\\d+ (red|blue|green)\", line[index_colon+2:]):\n",
    "        n, color = find[0].split(\" \")\n",
    "        if int(n) > loaded_cubes[color]:\n",
    "            break   \n",
    "    else:\n",
    "        sum_powers += game_number\n",
    "\n",
    "sum_powers"
   ]
  },
  {
   "cell_type": "markdown",
   "metadata": {},
   "source": [
    "## Del 2"
   ]
  },
  {
   "cell_type": "code",
   "execution_count": 119,
   "metadata": {},
   "outputs": [
    {
     "data": {
      "text/plain": [
       "71036"
      ]
     },
     "execution_count": 119,
     "metadata": {},
     "output_type": "execute_result"
    }
   ],
   "source": [
    "sum_powers = 0\n",
    "for line in lines:\n",
    "    if not line:\n",
    "        continue\n",
    "\n",
    "    index_colon = line.find(\":\")\n",
    "    showed_sets = line[index_colon+2:].split(\"; \")\n",
    "\n",
    "    min_number_of_cubes = {\"red\": 0, \"green\": 0, \"blue\": 0}\n",
    "\n",
    "    for find in re.finditer(r\"\\d+ (red|blue|green)\", line[index_colon+2:]):\n",
    "        n, color = find[0].split(\" \")\n",
    "        n = int(n)\n",
    "        if n > min_number_of_cubes[color]:\n",
    "            min_number_of_cubes[color] = n \n",
    "    \n",
    "    power = 1\n",
    "    for min_number in min_number_of_cubes.values():\n",
    "        power *= min_number\n",
    "    sum_powers += power\n",
    "\n",
    "sum_powers"
   ]
  }
 ],
 "metadata": {
  "kernelspec": {
   "display_name": "venv",
   "language": "python",
   "name": "python3"
  },
  "language_info": {
   "codemirror_mode": {
    "name": "ipython",
    "version": 3
   },
   "file_extension": ".py",
   "mimetype": "text/x-python",
   "name": "python",
   "nbconvert_exporter": "python",
   "pygments_lexer": "ipython3",
   "version": "3.11.6"
  }
 },
 "nbformat": 4,
 "nbformat_minor": 2
}
