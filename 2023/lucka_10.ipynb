{
 "cells": [
  {
   "cell_type": "markdown",
   "metadata": {},
   "source": [
    "# Lucka 10"
   ]
  },
  {
   "cell_type": "code",
   "execution_count": 1,
   "metadata": {},
   "outputs": [],
   "source": [
    "import aocd\n",
    "import regex\n",
    "from itertools import count\n",
    "from copy import deepcopy\n",
    "\n",
    "with open(\"input_data/input_10.txt\", \"r\") as file: \n",
    "    lines = file.read().splitlines()"
   ]
  },
  {
   "cell_type": "code",
   "execution_count": 2,
   "metadata": {},
   "outputs": [],
   "source": [
    "pipes = {\n",
    "        \"|\": {\"north\": \"north\", \"south\": \"south\"},\n",
    "        \"-\": {\"west\":  \"west\",  \"east\":  \"east\"},\n",
    "        \"L\": {\"west\":  \"north\", \"south\": \"east\"},\n",
    "        \"J\": {\"south\": \"west\",  \"east\":  \"north\"},\n",
    "        \"7\": {\"north\": \"west\",  \"east\":  \"south\"},\n",
    "        \"F\": {\"north\": \"east\",  \"west\":  \"south\"},\n",
    "}\n",
    "\n",
    "relative_directions = {\n",
    "        \"west\":  {\"relative_index\": (0, -1), \"connecting_pipes\": [\"-\", \"L\", \"F\"]},\n",
    "        \"north\": {\"relative_index\": (-1, 0), \"connecting_pipes\": [\"|\", \"7\", \"F\"]},\n",
    "        \"east\":  {\"relative_index\": (0, 1),  \"connecting_pipes\": [\"-\", \"7\", \"J\"]},\n",
    "        \"south\": {\"relative_index\": (1, 0),  \"connecting_pipes\": [\"|\", \"L\", \"J\"]},\n",
    "}\n",
    "\n"
   ]
  },
  {
   "cell_type": "markdown",
   "metadata": {},
   "source": [
    "## Del 1\n"
   ]
  },
  {
   "cell_type": "code",
   "execution_count": 3,
   "metadata": {},
   "outputs": [
    {
     "data": {
      "text/plain": [
       "7093"
      ]
     },
     "execution_count": 3,
     "metadata": {},
     "output_type": "execute_result"
    }
   ],
   "source": [
    "pipe_map = [list(line) for line in lines]\n",
    "\n",
    "# Start position and values\n",
    "s_row, s_column =  tuple(*((i, row.index(\"S\") ) for i, row in enumerate(pipe_map) if \"S\" in row))\n",
    "\n",
    "indexes_next = []\n",
    "connections = []\n",
    "for direction, direction_values in relative_directions.items():\n",
    "    Δ_row, Δ_column = direction_values[\"relative_index\"]\n",
    "    \n",
    "    row = s_row + Δ_row\n",
    "    column = s_column + Δ_column\n",
    "\n",
    "    if pipe_map[row][column] in direction_values[\"connecting_pipes\"]:\n",
    "        indexes_next.append((row, column, pipes[pipe_map[row][column]][direction]))\n",
    "        connections.append(direction)\n",
    "\n",
    "# Replace S with correct pipe (for part 2) NOTE Not really needed since S is a | in my input.\n",
    "s_connections = {tuple(v.values()):k for k, v in pipes.items()}\n",
    "pipe_map[s_row][s_column] = s_connections[tuple(connections)]\n",
    "\n",
    "# Follow pipes and count steps. Mark visited positions as #. \n",
    "pipe_map_visited = deepcopy(pipe_map)  \n",
    "pipe_map_visited[s_row][s_column] = \"#\"\n",
    "\n",
    "for steps in count(1):\n",
    "    indexes = indexes_next.copy()\n",
    "    indexes_next = []\n",
    "\n",
    "    for row, column, direction  in indexes:\n",
    "        pipe_map_visited [row][column] = \"#\"\n",
    "        \n",
    "        Δ_row, Δ_column = relative_directions[direction][\"relative_index\"]\n",
    "        row_next = row + Δ_row \n",
    "        column_next = column + Δ_column\n",
    "       \n",
    "        pipe = pipe_map_visited[row_next][column_next]\n",
    "        if pipe != \"#\":\n",
    "            indexes_next.append((row_next, column_next, pipes[pipe][direction]))\n",
    "    \n",
    "    if indexes_next == []:\n",
    "        break\n",
    "\n",
    "steps"
   ]
  },
  {
   "cell_type": "code",
   "execution_count": 4,
   "metadata": {},
   "outputs": [
    {
     "name": "stdout",
     "output_type": "stream",
     "text": [
      "aocd will not submit that answer again. At 2023-12-10 08:51:49.840005-05:00 you've previously submitted 7093 and the server responded with:\n",
      "\u001b[32mThat's the right answer!  You are one gold star closer to restoring snow operations. [Continue to Part Two]\u001b[0m\n"
     ]
    }
   ],
   "source": [
    "aocd.submit(steps, day=10, part=\"a\")"
   ]
  },
  {
   "cell_type": "markdown",
   "metadata": {},
   "source": [
    "## Del 2"
   ]
  },
  {
   "cell_type": "code",
   "execution_count": 5,
   "metadata": {},
   "outputs": [
    {
     "data": {
      "text/plain": [
       "407"
      ]
     },
     "execution_count": 5,
     "metadata": {},
     "output_type": "execute_result"
    }
   ],
   "source": [
    "enclosed_tiles = 0\n",
    "for i, (visited_row, pipe_row) in enumerate(zip(pipe_map_visited, pipe_map)):\n",
    "    # Clean map row from extra pipes not in loop\n",
    "    line = \"\".join([pipe if visited == \"#\" else \".\" for visited, pipe in zip(visited_row, pipe_row)])\n",
    "    \n",
    "    # Find all pipes in row\n",
    "    found_pipes = list(regex.finditer(r\"[L, F]\\-*[J, 7]|\\|\", line))\n",
    "\n",
    "    tiles_inside = False\n",
    "    for pipe_1, pipe_2 in zip(found_pipes[:-1], found_pipes[1:]):\n",
    "\n",
    "        if regex.findall(r\"(L-*7)|(F-*J)|\\|\", pipe_1.group()): \n",
    "            tiles_inside = not tiles_inside\n",
    "        \n",
    "        if tiles_inside:\n",
    "            enclosed_tiles += pipe_2.span()[0] - pipe_1.span()[1]\n",
    "    \n",
    "enclosed_tiles"
   ]
  },
  {
   "cell_type": "code",
   "execution_count": 6,
   "metadata": {},
   "outputs": [
    {
     "name": "stdout",
     "output_type": "stream",
     "text": [
      "aocd will not submit that answer again. At 2023-12-10 13:14:04.705283-05:00 you've previously submitted 407 and the server responded with:\n",
      "\u001b[32mThat's the right answer!  You are one gold star closer to restoring snow operations.You have completed Day 10! You can [Shareon\n",
      "  Twitter\n",
      "Mastodon] this victory or [Return to Your Advent Calendar].\u001b[0m\n"
     ]
    }
   ],
   "source": [
    "aocd.submit(enclosed_tiles, day=10, part=\"b\")"
   ]
  }
 ],
 "metadata": {
  "kernelspec": {
   "display_name": "venv",
   "language": "python",
   "name": "python3"
  },
  "language_info": {
   "codemirror_mode": {
    "name": "ipython",
    "version": 3
   },
   "file_extension": ".py",
   "mimetype": "text/x-python",
   "name": "python",
   "nbconvert_exporter": "python",
   "pygments_lexer": "ipython3",
   "version": "3.11.6"
  }
 },
 "nbformat": 4,
 "nbformat_minor": 2
}
