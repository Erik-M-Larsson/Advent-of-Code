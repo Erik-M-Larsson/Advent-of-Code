{
 "cells": [
  {
   "cell_type": "markdown",
   "metadata": {},
   "source": [
    "# Lucka 1\n"
   ]
  },
  {
   "cell_type": "code",
   "execution_count": 1,
   "metadata": {},
   "outputs": [],
   "source": [
    "import bisect\n",
    "\n",
    "with open(\"input_data/input_5.txt\", \"r\") as file: \n",
    "   data = file.read().split(\"\\n\\n\")"
   ]
  },
  {
   "cell_type": "code",
   "execution_count": 2,
   "metadata": {},
   "outputs": [],
   "source": [
    "seed_data = data[0].split()\n",
    "\n",
    "conversion_map = {}\n",
    "\n",
    "for step_data in data[1:]:\n",
    "    step_data = step_data.split()\n",
    "    step_name = step_data[0]\n",
    "\n",
    "    conversion_map[step_name] = {0:0}\n",
    "    for destination_start, source_start, range_length in zip(step_data[2::3], step_data[3::3], step_data[4::3]):\n",
    "        conversion_map[step_name][int(source_start)] = int(destination_start) - int(source_start)\n",
    "        \n",
    "        source_end = int(source_start) + int(range_length)\n",
    "        if source_end not in conversion_map[step_name]:\n",
    "            conversion_map[step_name][source_end] = 0"
   ]
  },
  {
   "cell_type": "code",
   "execution_count": 3,
   "metadata": {},
   "outputs": [],
   "source": [
    "def convert(n, conversion_step_map):\n",
    "    \n",
    "    keys = sorted(conversion_step_map)\n",
    "    index = bisect.bisect(keys, n) - 1\n",
    "\n",
    "    converted_n = n + conversion_step_map[keys[index]]\n",
    "    return converted_n"
   ]
  },
  {
   "cell_type": "markdown",
   "metadata": {},
   "source": [
    "## Del 1\n"
   ]
  },
  {
   "cell_type": "code",
   "execution_count": 4,
   "metadata": {},
   "outputs": [
    {
     "data": {
      "text/plain": [
       "251346198"
      ]
     },
     "execution_count": 4,
     "metadata": {},
     "output_type": "execute_result"
    }
   ],
   "source": [
    "seeds  = [int(number) for number in seed_data[1:]]\n",
    "\n",
    "locations = seeds.copy()\n",
    "\n",
    "for stage in conversion_map:\n",
    "    locations = [convert(loc, conversion_map[stage]) for loc in locations]\n",
    "\n",
    "min(locations)"
   ]
  },
  {
   "cell_type": "markdown",
   "metadata": {},
   "source": [
    "## Del 2\n"
   ]
  },
  {
   "cell_type": "code",
   "execution_count": 5,
   "metadata": {},
   "outputs": [
    {
     "data": {
      "text/plain": [
       "72263011"
      ]
     },
     "execution_count": 5,
     "metadata": {},
     "output_type": "execute_result"
    }
   ],
   "source": [
    "seed_ranges  = {int(start): int(start) + int(range) for start, range in zip(seed_data[1::2], seed_data[2::2])}\n",
    "\n",
    "ranges = seed_ranges.copy()\n",
    "\n",
    "for stage, stage_map in conversion_map.items():\n",
    "\n",
    "    converted_ranges = {}\n",
    "    for range_start, range_end in ranges.items():\n",
    "        new_range_bounds = ([range_start] + \n",
    "                            [break_point for break_point in stage_map if break_point in range(range_start, range_end)] + \n",
    "                            [range_end]\n",
    "        )\n",
    "        \n",
    "        converted_ranges |= {(r_start_converted:=convert(r_start, stage_map)): r_start_converted + (r_end - r_start) \n",
    "                             for r_start, r_end in zip(new_range_bounds[:-1], new_range_bounds[1:])\n",
    "        }      \n",
    "\n",
    "    ranges = converted_ranges.copy()\n",
    "\n",
    "min(ranges)"
   ]
  }
 ],
 "metadata": {
  "kernelspec": {
   "display_name": "venv",
   "language": "python",
   "name": "python3"
  },
  "language_info": {
   "codemirror_mode": {
    "name": "ipython",
    "version": 3
   },
   "file_extension": ".py",
   "mimetype": "text/x-python",
   "name": "python",
   "nbconvert_exporter": "python",
   "pygments_lexer": "ipython3",
   "version": "3.11.6"
  }
 },
 "nbformat": 4,
 "nbformat_minor": 2
}
