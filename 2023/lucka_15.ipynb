{
 "cells": [
  {
   "cell_type": "markdown",
   "metadata": {},
   "source": [
    "# Lucka 15"
   ]
  },
  {
   "cell_type": "code",
   "execution_count": 1,
   "metadata": {},
   "outputs": [],
   "source": [
    "import aocd\n",
    "from collections import defaultdict\n",
    "\n",
    "with open(\"input_data/input_15.txt\", \"r\") as file: \n",
    "    steps = file.readline().strip().split(\",\")"
   ]
  },
  {
   "cell_type": "code",
   "execution_count": 2,
   "metadata": {},
   "outputs": [],
   "source": [
    "def hash(string):\n",
    "    multiplier = 17\n",
    "    divider = 256\n",
    "\n",
    "    current_value =  0\n",
    "\n",
    "    for char in string:\n",
    "        current_value += ord(char)\n",
    "        current_value *= multiplier \n",
    "        current_value %= divider\n",
    "\n",
    "    return current_value"
   ]
  },
  {
   "cell_type": "markdown",
   "metadata": {},
   "source": [
    "## Del 1"
   ]
  },
  {
   "cell_type": "code",
   "execution_count": 3,
   "metadata": {},
   "outputs": [
    {
     "data": {
      "text/plain": [
       "517315"
      ]
     },
     "execution_count": 3,
     "metadata": {},
     "output_type": "execute_result"
    }
   ],
   "source": [
    "answer_1 = sum([hash(step) for step in steps])\n",
    "answer_1"
   ]
  },
  {
   "cell_type": "code",
   "execution_count": 4,
   "metadata": {},
   "outputs": [
    {
     "name": "stdout",
     "output_type": "stream",
     "text": [
      "aocd will not submit that answer again. At 2023-12-15 00:46:02.753618-05:00 you've previously submitted 517315 and the server responded with:\n",
      "\u001b[32mThat's the right answer!  You are one gold star closer to restoring snow operations. [Continue to Part Two]\u001b[0m\n"
     ]
    }
   ],
   "source": [
    "aocd.submit(answer_1, day=15, part=\"a\")"
   ]
  },
  {
   "cell_type": "markdown",
   "metadata": {},
   "source": [
    "## Del 2"
   ]
  },
  {
   "cell_type": "code",
   "execution_count": 5,
   "metadata": {},
   "outputs": [
    {
     "data": {
      "text/plain": [
       "247763"
      ]
     },
     "execution_count": 5,
     "metadata": {},
     "output_type": "execute_result"
    }
   ],
   "source": [
    "boxes = defaultdict(lambda: {})\n",
    "\n",
    "for step in steps:\n",
    "    index_operator =  step.find(\"=\")\n",
    "    label = step[:index_operator]\n",
    "    box_number = hash(label)\n",
    "\n",
    "    if index_operator == -1:\n",
    "        if label in boxes[box_number]:\n",
    "            del boxes[box_number][label]\n",
    "    else:\n",
    "        focal_length = int(step[index_operator+1:])\n",
    "        boxes[box_number][label] = focal_length \n",
    "\n",
    "answer_2 = sum([(box_n + 1) * slot_n * focal_length  \n",
    "                for box_n, lenses in boxes.items() \n",
    "                for slot_n, focal_length in enumerate(lenses.values(), 1)]\n",
    ")\n",
    "\n",
    "answer_2"
   ]
  },
  {
   "cell_type": "code",
   "execution_count": 6,
   "metadata": {},
   "outputs": [
    {
     "name": "stdout",
     "output_type": "stream",
     "text": [
      "aocd will not submit that answer again. At 2023-12-15 01:38:49.287607-05:00 you've previously submitted 247763 and the server responded with:\n",
      "\u001b[32mThat's the right answer!  You are one gold star closer to restoring snow operations.You have completed Day 15! You can [Shareon\n",
      "  Twitter\n",
      "Mastodon] this victory or [Return to Your Advent Calendar].\u001b[0m\n"
     ]
    }
   ],
   "source": [
    "aocd.submit(answer_2, day=15, part=\"b\")"
   ]
  }
 ],
 "metadata": {
  "kernelspec": {
   "display_name": "venv",
   "language": "python",
   "name": "python3"
  },
  "language_info": {
   "codemirror_mode": {
    "name": "ipython",
    "version": 3
   },
   "file_extension": ".py",
   "mimetype": "text/x-python",
   "name": "python",
   "nbconvert_exporter": "python",
   "pygments_lexer": "ipython3",
   "version": "3.11.6"
  }
 },
 "nbformat": 4,
 "nbformat_minor": 2
}
