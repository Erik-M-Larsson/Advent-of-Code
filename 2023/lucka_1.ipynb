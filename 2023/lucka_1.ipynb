{
 "cells": [
  {
   "cell_type": "markdown",
   "metadata": {},
   "source": [
    "# Lucka 1\n"
   ]
  },
  {
   "cell_type": "code",
   "execution_count": 1,
   "metadata": {},
   "outputs": [],
   "source": [
    "with open(\"input_data/input_1.txt\", \"r\") as f: \n",
    "    lines = f.read().split(\"\\n\")"
   ]
  },
  {
   "cell_type": "markdown",
   "metadata": {},
   "source": [
    "## Del 1\n",
    "### Ursprunglig lösning"
   ]
  },
  {
   "cell_type": "code",
   "execution_count": 2,
   "metadata": {},
   "outputs": [
    {
     "data": {
      "text/plain": [
       "54561"
      ]
     },
     "execution_count": 2,
     "metadata": {},
     "output_type": "execute_result"
    }
   ],
   "source": [
    "sum([int(digits[0] + digits[-1]) for digits in [[char for char in line if char.isdigit()] for line in lines] if digits])"
   ]
  },
  {
   "cell_type": "markdown",
   "metadata": {},
   "source": [
    "### Uppdaterad lösning \n",
    "Fick tips om filter.  Och så upptäckte jag att valrossoperatorn fungerade i list comprehension, vilket jag fått för mig den inte gjorde. \n",
    "Så 3 -> 1 comprehensions "
   ]
  },
  {
   "cell_type": "code",
   "execution_count": 3,
   "metadata": {},
   "outputs": [
    {
     "data": {
      "text/plain": [
       "54561"
      ]
     },
     "execution_count": 3,
     "metadata": {},
     "output_type": "execute_result"
    }
   ],
   "source": [
    "sum([int(digits[0] + digits[-1]) for line in lines if (digits:=list(filter(str.isdigit, line )))])"
   ]
  },
  {
   "cell_type": "markdown",
   "metadata": {},
   "source": [
    "## Del 2\n",
    "### Ursprunglig lösning"
   ]
  },
  {
   "cell_type": "code",
   "execution_count": 4,
   "metadata": {},
   "outputs": [
    {
     "data": {
      "text/plain": [
       "54076"
      ]
     },
     "execution_count": 4,
     "metadata": {},
     "output_type": "execute_result"
    }
   ],
   "source": [
    "sum_ = 0 \n",
    "for line in lines:\n",
    "    if line == \"\":\n",
    "        continue\n",
    "\n",
    "    for string, n in zip([\"one\", \"two\", \"three\", \"four\", \"five\", \"six\", \"seven\", \"eight\", \"nine\"], [\"o1e\", \"t2o\", \"t3e\", \"f4r\", \"f5e\", \"s6x\", \"s7n\", \"e8t\", \"n9e\"]):\n",
    "        line = line.replace(string, n)\n",
    "\n",
    "    digits = [char for char in line if char.isdigit()] # Alt: list(filter(str.isdigit, line ))\n",
    "    sum_ += int(digits[0] + digits[-1])\n",
    "\n",
    "sum_"
   ]
  },
  {
   "cell_type": "markdown",
   "metadata": {},
   "source": [
    "### Updaterad lösning\n",
    "En lösning med find och rfind"
   ]
  },
  {
   "cell_type": "code",
   "execution_count": 5,
   "metadata": {},
   "outputs": [
    {
     "data": {
      "text/plain": [
       "54076"
      ]
     },
     "execution_count": 5,
     "metadata": {},
     "output_type": "execute_result"
    }
   ],
   "source": [
    "numbers_dict = {\"1\": \"1\", \"2\": \"2\", \"3\": \"3\", \"4\": \"4\", \"5\": \"5\", \"6\": \"6\", \"7\": \"7\", \"8\": \"8\", \"9\":\"9\", \"one\": \"1\", \"two\": \"2\", \"three\": \"3\", \"four\": \"4\", \"five\": \"5\", \"six\": \"6\", \"seven\": \"7\", \"eight\": \"8\", \"nine\": \"9\"}\n",
    "sum([int(numbers_dict[(dic1:={idx:number for number in numbers_dict if (idx := line.find(number)) >= 0})[min(dic1)]] + numbers_dict[(dic2:={idx:number for number in numbers_dict if (idx := line.rfind(number)) >= 0})[max(dic2)]]) for line in lines if line])\n"
   ]
  },
  {
   "cell_type": "markdown",
   "metadata": {},
   "source": [
    "## Del 1  och 2\n",
    "Regex var så klart ett smart att använda istället. Och inte är väl någon uppgift riktigt löst innan man har en oneliner 😁"
   ]
  },
  {
   "cell_type": "code",
   "execution_count": 6,
   "metadata": {},
   "outputs": [],
   "source": [
    "import regex as re"
   ]
  },
  {
   "cell_type": "code",
   "execution_count": 7,
   "metadata": {},
   "outputs": [
    {
     "name": "stdout",
     "output_type": "stream",
     "text": [
      "Del 1: 54561 \n",
      "Del 2: 54076\n"
     ]
    }
   ],
   "source": [
    "print(\"Del 1:\", sum([int(digits[0] + digits[-1]) for line in lines if (digits:=list(filter(str.isdigit, line )))]), \"\\nDel 2:\", sum([int(numbers_dict[numbers[0]] + numbers_dict[numbers[-1]]) for line in lines if line and (numbers := re.findall(\"|\".join(numbers_dict:= {\"1\": \"1\", \"2\": \"2\", \"3\": \"3\", \"4\": \"4\", \"5\": \"5\", \"6\": \"6\", \"7\": \"7\", \"8\": \"8\", \"9\":\"9\", \"one\": \"1\", \"two\": \"2\", \"three\": \"3\", \"four\": \"4\", \"five\": \"5\", \"six\": \"6\", \"seven\": \"7\", \"eight\": \"8\", \"nine\": \"9\"}) , line , overlapped=True))]))"
   ]
  },
  {
   "cell_type": "markdown",
   "metadata": {},
   "source": [
    "Fast utan regex kan man få till **ALLTING** på en rad 😎 \n",
    "\n",
    "Okej lite hackigt med f.seek(0) mitt i print 😂"
   ]
  },
  {
   "cell_type": "code",
   "execution_count": 8,
   "metadata": {},
   "outputs": [
    {
     "name": "stdout",
     "output_type": "stream",
     "text": [
      "Del 1: 54561  \n",
      "Del 2: 54076\n"
     ]
    }
   ],
   "source": [
    "with open(\"input_data/input_1.txt\", \"r\") as f: print(\"Del 1:\", sum([int(digits[0] + digits[-1]) for line in f.read().split(\"\\n\") if (digits:=list(filter(str.isdigit, line )))]), \"\" if f.seek(0) else \"\", \"\\nDel 2:\", sum([int((numbers_dict:= {\"1\": \"1\", \"2\": \"2\", \"3\": \"3\", \"4\": \"4\", \"5\": \"5\", \"6\": \"6\", \"7\": \"7\", \"8\": \"8\", \"9\":\"9\", \"one\": \"1\", \"two\": \"2\", \"three\": \"3\", \"four\": \"4\", \"five\": \"5\", \"six\": \"6\", \"seven\": \"7\", \"eight\": \"8\", \"nine\": \"9\"})[(dic1:={idx:number for number in numbers_dict if (idx := line.find(number)) >= 0})[min(dic1)]] + numbers_dict[(dic2:={idx:number for number in numbers_dict if (idx := line.rfind(number)) >= 0})[max(dic2)]]) for line in f.read().split(\"\\n\") if line]))\n"
   ]
  }
 ],
 "metadata": {
  "kernelspec": {
   "display_name": "venv",
   "language": "python",
   "name": "python3"
  },
  "language_info": {
   "codemirror_mode": {
    "name": "ipython",
    "version": 3
   },
   "file_extension": ".py",
   "mimetype": "text/x-python",
   "name": "python",
   "nbconvert_exporter": "python",
   "pygments_lexer": "ipython3",
   "version": "3.11.6"
  }
 },
 "nbformat": 4,
 "nbformat_minor": 2
}
