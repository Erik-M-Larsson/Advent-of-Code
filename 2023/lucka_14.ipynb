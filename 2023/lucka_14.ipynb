{
 "cells": [
  {
   "cell_type": "markdown",
   "metadata": {},
   "source": [
    "# Lucka 14"
   ]
  },
  {
   "cell_type": "code",
   "execution_count": 1,
   "metadata": {},
   "outputs": [],
   "source": [
    "import aocd\n",
    "import numpy as np\n",
    "\n",
    "\n",
    "with open(\"input_data/input_14.txt\", \"r\") as file: \n",
    "    lines = file.read().splitlines()"
   ]
  },
  {
   "cell_type": "code",
   "execution_count": 2,
   "metadata": {},
   "outputs": [],
   "source": [
    "def tilt(platform):\n",
    "    \n",
    "    for line in platform:\n",
    "\n",
    "        first_empty_place = 0\n",
    "        for i, place in enumerate(line):\n",
    "            if place == \"O\":\n",
    "                line[i] = \".\"\n",
    "                line[first_empty_place] = \"O\"\n",
    "\n",
    "                first_empty_place += 1\n",
    "\n",
    "            elif place == \"#\":\n",
    "                first_empty_place = i + 1\n",
    "    return"
   ]
  },
  {
   "cell_type": "code",
   "execution_count": 3,
   "metadata": {},
   "outputs": [],
   "source": [
    "def total_load(platform):\n",
    "    return sum([i + 1 for (i,_), place in np.ndenumerate(np.flipud(platform)) if place == \"O\"])"
   ]
  },
  {
   "cell_type": "markdown",
   "metadata": {},
   "source": [
    "## Del 1"
   ]
  },
  {
   "cell_type": "code",
   "execution_count": 4,
   "metadata": {},
   "outputs": [
    {
     "data": {
      "text/plain": [
       "106997"
      ]
     },
     "execution_count": 4,
     "metadata": {},
     "output_type": "execute_result"
    }
   ],
   "source": [
    "platform = np.array([list(line) for line in lines])\n",
    "\n",
    "# North\n",
    "tilt(platform.T)\n",
    "\n",
    "total_load_1 = total_load(platform)\n",
    "total_load_1"
   ]
  },
  {
   "cell_type": "code",
   "execution_count": 5,
   "metadata": {},
   "outputs": [
    {
     "name": "stdout",
     "output_type": "stream",
     "text": [
      "aocd will not submit that answer again. At 2023-12-14 04:15:43.090730-05:00 you've previously submitted 106997 and the server responded with:\n",
      "\u001b[32mThat's the right answer!  You are one gold star closer to restoring snow operations. [Continue to Part Two]\u001b[0m\n"
     ]
    }
   ],
   "source": [
    "aocd.submit(total_load_1, day=14, part=\"a\")"
   ]
  },
  {
   "cell_type": "markdown",
   "metadata": {},
   "source": [
    "## Del 2"
   ]
  },
  {
   "cell_type": "code",
   "execution_count": 6,
   "metadata": {},
   "outputs": [
    {
     "name": "stdout",
     "output_type": "stream",
     "text": [
      "184\n"
     ]
    },
    {
     "data": {
      "text/plain": [
       "99641"
      ]
     },
     "execution_count": 6,
     "metadata": {},
     "output_type": "execute_result"
    }
   ],
   "source": [
    "n = 1_000_000_000\n",
    "\n",
    "platform = np.array([list(line) for line in lines])\n",
    "previous_cycles = np.empty((0, *platform.shape))\n",
    "\n",
    "for i_cycle in range(n):\n",
    "    print(i_cycle, end=\"\\r\")\n",
    "    \n",
    "    # North\n",
    "    tilt(platform.T)\n",
    "\n",
    "    # West\n",
    "    tilt(platform)\n",
    "\n",
    "    # South \n",
    "    tilt(np.flipud(platform).T)\n",
    "\n",
    "    # East\n",
    "    tilt(np.fliplr(platform))\n",
    "\n",
    "    # Check if same pattern occurred earlier\n",
    "    same_pattern = np.all(platform == previous_cycles,  axis=(1,2))\n",
    "    if np.any(same_pattern):\n",
    "        print(i_cycle)\n",
    "        break\n",
    "\n",
    "    previous_cycles = np.append(previous_cycles, platform.reshape((-1, *platform.shape)), axis= 0)\n",
    "\n",
    "n_start = np.argmax(same_pattern)\n",
    "period = i_cycle - n_start\n",
    "index_n_equivalent = n_start + (n - n_start) % period - 1\n",
    "\n",
    "platform_n = previous_cycles[index_n_equivalent, :, :]\n",
    "\n",
    "# Total load north support beams\n",
    "total_load_2 = total_load(platform_n)\n",
    "total_load_2"
   ]
  },
  {
   "cell_type": "code",
   "execution_count": 7,
   "metadata": {},
   "outputs": [
    {
     "name": "stdout",
     "output_type": "stream",
     "text": [
      "aocd will not submit that answer again. At 2023-12-16 14:12:50.927269-05:00 you've previously submitted 99641 and the server responded with:\n",
      "\u001b[32mThat's the right answer!  You are one gold star closer to restoring snow operations.You have completed Day 14! You can [Shareon\n",
      "  Twitter\n",
      "Mastodon] this victory or [Return to Your Advent Calendar].\u001b[0m\n"
     ]
    }
   ],
   "source": [
    "aocd.submit(total_load_2, day=14, part=\"b\") "
   ]
  }
 ],
 "metadata": {
  "kernelspec": {
   "display_name": "venv",
   "language": "python",
   "name": "python3"
  },
  "language_info": {
   "codemirror_mode": {
    "name": "ipython",
    "version": 3
   },
   "file_extension": ".py",
   "mimetype": "text/x-python",
   "name": "python",
   "nbconvert_exporter": "python",
   "pygments_lexer": "ipython3",
   "version": "3.11.6"
  }
 },
 "nbformat": 4,
 "nbformat_minor": 2
}
