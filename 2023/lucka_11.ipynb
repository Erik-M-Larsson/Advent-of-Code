{
 "cells": [
  {
   "cell_type": "markdown",
   "metadata": {},
   "source": [
    "# Lucka 11"
   ]
  },
  {
   "cell_type": "code",
   "execution_count": 1,
   "metadata": {},
   "outputs": [],
   "source": [
    "import aocd\n",
    "from bisect import bisect\n",
    "\n",
    "with open(\"input_data/input_11.txt\", \"r\") as file: \n",
    "    lines = file.read().splitlines()"
   ]
  },
  {
   "cell_type": "code",
   "execution_count": 2,
   "metadata": {},
   "outputs": [],
   "source": [
    "def sum_lengths(lines, expansion_factor):\n",
    "    \n",
    "    # Expand down\n",
    "    galaxys_1  = []\n",
    "    n_expansions = 0\n",
    "\n",
    "    for i, line in enumerate(lines):\n",
    "\n",
    "        empty_space = True\n",
    "        for j, location in enumerate(line):\n",
    "            if location == \"#\":\n",
    "                empty_space = False\n",
    "                galaxys_1.append((i + n_expansions * (expansion_factor - 1), j))\n",
    "\n",
    "        if empty_space:\n",
    "            n_expansions += 1\n",
    "\n",
    "\n",
    "    # Expand right\n",
    "    columns_with_galaxy = set([galaxy[1] for galaxy in galaxys_1])\n",
    "    empty_columns = sorted(list(set(range(max(columns_with_galaxy))) - columns_with_galaxy))\n",
    "\n",
    "    galaxys_2 = []\n",
    "    for row, col in galaxys_1:\n",
    "        n_expansions =  bisect(empty_columns, col)\n",
    "        galaxys_2.append((row, col + n_expansions * (expansion_factor - 1)))\n",
    "\n",
    "    # Manhattan distances\n",
    "    sum_all_lengths =  0\n",
    "\n",
    "    for i, galaxy_1 in enumerate(galaxys_2):\n",
    "        for gal_2 in galaxys_2[i+1:]:\n",
    "            manhattan_distanc = abs(gal_2[0] - galaxy_1[0]) + abs(gal_2[1] - galaxy_1[1])\n",
    "\n",
    "            sum_all_lengths +=  manhattan_distanc\n",
    "\n",
    "    return sum_all_lengths "
   ]
  },
  {
   "cell_type": "markdown",
   "metadata": {},
   "source": [
    "## Del 1"
   ]
  },
  {
   "cell_type": "code",
   "execution_count": 3,
   "metadata": {},
   "outputs": [
    {
     "data": {
      "text/plain": [
       "10494813"
      ]
     },
     "execution_count": 3,
     "metadata": {},
     "output_type": "execute_result"
    }
   ],
   "source": [
    "answer_1 = sum_lengths(lines, 2)\n",
    "answer_1"
   ]
  },
  {
   "cell_type": "code",
   "execution_count": 4,
   "metadata": {},
   "outputs": [
    {
     "name": "stdout",
     "output_type": "stream",
     "text": [
      "aocd will not submit that answer again. At 2023-12-11 01:31:36.833592-05:00 you've previously submitted 10494813 and the server responded with:\n",
      "\u001b[32mThat's the right answer!  You are one gold star closer to restoring snow operations. [Continue to Part Two]\u001b[0m\n"
     ]
    }
   ],
   "source": [
    "aocd.submit(answer_1, day=11, part=\"a\")"
   ]
  },
  {
   "cell_type": "markdown",
   "metadata": {},
   "source": [
    "## Del 2"
   ]
  },
  {
   "cell_type": "code",
   "execution_count": 5,
   "metadata": {},
   "outputs": [
    {
     "data": {
      "text/plain": [
       "840988812853"
      ]
     },
     "execution_count": 5,
     "metadata": {},
     "output_type": "execute_result"
    }
   ],
   "source": [
    "answer_2 = sum_lengths(lines, 1_000_000)\n",
    "answer_2"
   ]
  },
  {
   "cell_type": "code",
   "execution_count": 6,
   "metadata": {},
   "outputs": [
    {
     "name": "stdout",
     "output_type": "stream",
     "text": [
      "aocd will not submit that answer again. At 2023-12-11 02:27:59.983022-05:00 you've previously submitted 840988812853 and the server responded with:\n",
      "\u001b[32mThat's the right answer!  You are one gold star closer to restoring snow operations.You have completed Day 11! You can [Shareon\n",
      "  Twitter\n",
      "Mastodon] this victory or [Return to Your Advent Calendar].\u001b[0m\n"
     ]
    }
   ],
   "source": [
    "aocd.submit(answer_2, day=11, part=\"b\")"
   ]
  }
 ],
 "metadata": {
  "kernelspec": {
   "display_name": "venv",
   "language": "python",
   "name": "python3"
  },
  "language_info": {
   "codemirror_mode": {
    "name": "ipython",
    "version": 3
   },
   "file_extension": ".py",
   "mimetype": "text/x-python",
   "name": "python",
   "nbconvert_exporter": "python",
   "pygments_lexer": "ipython3",
   "version": "3.11.6"
  }
 },
 "nbformat": 4,
 "nbformat_minor": 2
}
